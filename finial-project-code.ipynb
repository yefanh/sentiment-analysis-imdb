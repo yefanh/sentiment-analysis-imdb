{
  "cells": [
    {
      "cell_type": "markdown",
      "id": "44b4ZdMLgPUC",
      "metadata": {
        "id": "44b4ZdMLgPUC"
      },
      "source": [
        "<h2><b>Sentiment Analysis of IMDb Movie Reviews</b></h2>\n",
        "\n",
        "\n",
        "\n",
        "\n",
        "\n"
      ]
    },
    {
      "cell_type": "markdown",
      "id": "ruPwTC9Ph-Un",
      "metadata": {
        "id": "ruPwTC9Ph-Un"
      },
      "source": [
        "<h2><b>A - Introduction</b></h2>\n"
      ]
    },
    {
      "cell_type": "markdown",
      "id": "fw_8pwKIhGgw",
      "metadata": {
        "id": "fw_8pwKIhGgw"
      },
      "source": [
        "Sentiment Analysis refers to a technique that utilizes Natural Language Processing techniques in order to determine whether a statement is positive or negative. In this project, we\n",
        "will utilize Sentiment Analysis on IMDb movie reviews in order to judge whether a movie has\n",
        "a generally positive or negative favor among public perception. Employing different classification models (SVM, Random Forest, XG-Boost, LSTM, and BERT), we hope to compare their\n",
        "benchmarks to one another to determine which models are best for Sentiment Analysis in order to see which model would be best to use to determine whether the general sentiment about a\n",
        "movie is positive or negative."
      ]
    },
    {
      "cell_type": "markdown",
      "id": "HWFMFP4_iSi6",
      "metadata": {
        "id": "HWFMFP4_iSi6"
      },
      "source": [
        "<h2><b>B - Setup</b></h2>\n"
      ]
    },
    {
      "cell_type": "markdown",
      "id": "VWfRQjOpjDp9",
      "metadata": {
        "id": "VWfRQjOpjDp9"
      },
      "source": [
        "<h2><b>1. Load Essential Libraries</b></h2>\n"
      ]
    },
    {
      "cell_type": "code",
      "execution_count": null,
      "id": "77800963",
      "metadata": {
        "id": "77800963"
      },
      "outputs": [],
      "source": [
        "import pandas as pd\n",
        "import re\n",
        "from bs4 import BeautifulSoup\n",
        "import nltk\n",
        "from typing import List\n",
        "from nltk.stem import WordNetLemmatizer\n",
        "from tqdm import tqdm\n",
        "from sklearn.metrics import accuracy_score, precision_score, recall_score, f1_score\n",
        "import matplotlib.pyplot as plt\n",
        "from torch.utils.data import TensorDataset\n",
        "from nltk.tokenize import word_tokenize\n",
        "from nltk.corpus import stopwords"
      ]
    },
    {
      "cell_type": "markdown",
      "id": "K8UYM6ZPjVCh",
      "metadata": {
        "id": "K8UYM6ZPjVCh"
      },
      "source": [
        "<h2><b>2. Load Dataset</b></h2>"
      ]
    },
    {
      "cell_type": "markdown",
      "id": "1dWdRlB_jpiE",
      "metadata": {
        "id": "1dWdRlB_jpiE"
      },
      "source": [
        "The dataset used in this project is the “IMDb Movie Ratings Sentiment Analysis” dataset available\n",
        "on Kaggle1. It consists of 40,000 movie reviews, each labeled with a sentiment value: 1 for positive\n",
        "and 0 for negative. The dataset is balanced, with approximately 50% of the reviews belonging to\n",
        "each sentiment class"
      ]
    },
    {
      "cell_type": "code",
      "execution_count": null,
      "id": "ba14c016",
      "metadata": {
        "colab": {
          "base_uri": "https://localhost:8080/",
          "height": 72
        },
        "id": "ba14c016",
        "outputId": "50112a9c-c3f8-4724-9ce1-be1aa564d2ce"
      },
      "outputs": [
        {
          "data": {
            "text/html": [
              "\n",
              "     <input type=\"file\" id=\"files-7844487f-d336-4f0b-8c7e-e06a5552bfa9\" name=\"files[]\" multiple disabled\n",
              "        style=\"border:none\" />\n",
              "     <output id=\"result-7844487f-d336-4f0b-8c7e-e06a5552bfa9\">\n",
              "      Upload widget is only available when the cell has been executed in the\n",
              "      current browser session. Please rerun this cell to enable.\n",
              "      </output>\n",
              "      <script>// Copyright 2017 Google LLC\n",
              "//\n",
              "// Licensed under the Apache License, Version 2.0 (the \"License\");\n",
              "// you may not use this file except in compliance with the License.\n",
              "// You may obtain a copy of the License at\n",
              "//\n",
              "//      http://www.apache.org/licenses/LICENSE-2.0\n",
              "//\n",
              "// Unless required by applicable law or agreed to in writing, software\n",
              "// distributed under the License is distributed on an \"AS IS\" BASIS,\n",
              "// WITHOUT WARRANTIES OR CONDITIONS OF ANY KIND, either express or implied.\n",
              "// See the License for the specific language governing permissions and\n",
              "// limitations under the License.\n",
              "\n",
              "/**\n",
              " * @fileoverview Helpers for google.colab Python module.\n",
              " */\n",
              "(function(scope) {\n",
              "function span(text, styleAttributes = {}) {\n",
              "  const element = document.createElement('span');\n",
              "  element.textContent = text;\n",
              "  for (const key of Object.keys(styleAttributes)) {\n",
              "    element.style[key] = styleAttributes[key];\n",
              "  }\n",
              "  return element;\n",
              "}\n",
              "\n",
              "// Max number of bytes which will be uploaded at a time.\n",
              "const MAX_PAYLOAD_SIZE = 100 * 1024;\n",
              "\n",
              "function _uploadFiles(inputId, outputId) {\n",
              "  const steps = uploadFilesStep(inputId, outputId);\n",
              "  const outputElement = document.getElementById(outputId);\n",
              "  // Cache steps on the outputElement to make it available for the next call\n",
              "  // to uploadFilesContinue from Python.\n",
              "  outputElement.steps = steps;\n",
              "\n",
              "  return _uploadFilesContinue(outputId);\n",
              "}\n",
              "\n",
              "// This is roughly an async generator (not supported in the browser yet),\n",
              "// where there are multiple asynchronous steps and the Python side is going\n",
              "// to poll for completion of each step.\n",
              "// This uses a Promise to block the python side on completion of each step,\n",
              "// then passes the result of the previous step as the input to the next step.\n",
              "function _uploadFilesContinue(outputId) {\n",
              "  const outputElement = document.getElementById(outputId);\n",
              "  const steps = outputElement.steps;\n",
              "\n",
              "  const next = steps.next(outputElement.lastPromiseValue);\n",
              "  return Promise.resolve(next.value.promise).then((value) => {\n",
              "    // Cache the last promise value to make it available to the next\n",
              "    // step of the generator.\n",
              "    outputElement.lastPromiseValue = value;\n",
              "    return next.value.response;\n",
              "  });\n",
              "}\n",
              "\n",
              "/**\n",
              " * Generator function which is called between each async step of the upload\n",
              " * process.\n",
              " * @param {string} inputId Element ID of the input file picker element.\n",
              " * @param {string} outputId Element ID of the output display.\n",
              " * @return {!Iterable<!Object>} Iterable of next steps.\n",
              " */\n",
              "function* uploadFilesStep(inputId, outputId) {\n",
              "  const inputElement = document.getElementById(inputId);\n",
              "  inputElement.disabled = false;\n",
              "\n",
              "  const outputElement = document.getElementById(outputId);\n",
              "  outputElement.innerHTML = '';\n",
              "\n",
              "  const pickedPromise = new Promise((resolve) => {\n",
              "    inputElement.addEventListener('change', (e) => {\n",
              "      resolve(e.target.files);\n",
              "    });\n",
              "  });\n",
              "\n",
              "  const cancel = document.createElement('button');\n",
              "  inputElement.parentElement.appendChild(cancel);\n",
              "  cancel.textContent = 'Cancel upload';\n",
              "  const cancelPromise = new Promise((resolve) => {\n",
              "    cancel.onclick = () => {\n",
              "      resolve(null);\n",
              "    };\n",
              "  });\n",
              "\n",
              "  // Wait for the user to pick the files.\n",
              "  const files = yield {\n",
              "    promise: Promise.race([pickedPromise, cancelPromise]),\n",
              "    response: {\n",
              "      action: 'starting',\n",
              "    }\n",
              "  };\n",
              "\n",
              "  cancel.remove();\n",
              "\n",
              "  // Disable the input element since further picks are not allowed.\n",
              "  inputElement.disabled = true;\n",
              "\n",
              "  if (!files) {\n",
              "    return {\n",
              "      response: {\n",
              "        action: 'complete',\n",
              "      }\n",
              "    };\n",
              "  }\n",
              "\n",
              "  for (const file of files) {\n",
              "    const li = document.createElement('li');\n",
              "    li.append(span(file.name, {fontWeight: 'bold'}));\n",
              "    li.append(span(\n",
              "        `(${file.type || 'n/a'}) - ${file.size} bytes, ` +\n",
              "        `last modified: ${\n",
              "            file.lastModifiedDate ? file.lastModifiedDate.toLocaleDateString() :\n",
              "                                    'n/a'} - `));\n",
              "    const percent = span('0% done');\n",
              "    li.appendChild(percent);\n",
              "\n",
              "    outputElement.appendChild(li);\n",
              "\n",
              "    const fileDataPromise = new Promise((resolve) => {\n",
              "      const reader = new FileReader();\n",
              "      reader.onload = (e) => {\n",
              "        resolve(e.target.result);\n",
              "      };\n",
              "      reader.readAsArrayBuffer(file);\n",
              "    });\n",
              "    // Wait for the data to be ready.\n",
              "    let fileData = yield {\n",
              "      promise: fileDataPromise,\n",
              "      response: {\n",
              "        action: 'continue',\n",
              "      }\n",
              "    };\n",
              "\n",
              "    // Use a chunked sending to avoid message size limits. See b/62115660.\n",
              "    let position = 0;\n",
              "    do {\n",
              "      const length = Math.min(fileData.byteLength - position, MAX_PAYLOAD_SIZE);\n",
              "      const chunk = new Uint8Array(fileData, position, length);\n",
              "      position += length;\n",
              "\n",
              "      const base64 = btoa(String.fromCharCode.apply(null, chunk));\n",
              "      yield {\n",
              "        response: {\n",
              "          action: 'append',\n",
              "          file: file.name,\n",
              "          data: base64,\n",
              "        },\n",
              "      };\n",
              "\n",
              "      let percentDone = fileData.byteLength === 0 ?\n",
              "          100 :\n",
              "          Math.round((position / fileData.byteLength) * 100);\n",
              "      percent.textContent = `${percentDone}% done`;\n",
              "\n",
              "    } while (position < fileData.byteLength);\n",
              "  }\n",
              "\n",
              "  // All done.\n",
              "  yield {\n",
              "    response: {\n",
              "      action: 'complete',\n",
              "    }\n",
              "  };\n",
              "}\n",
              "\n",
              "scope.google = scope.google || {};\n",
              "scope.google.colab = scope.google.colab || {};\n",
              "scope.google.colab._files = {\n",
              "  _uploadFiles,\n",
              "  _uploadFilesContinue,\n",
              "};\n",
              "})(self);\n",
              "</script> "
            ],
            "text/plain": [
              "<IPython.core.display.HTML object>"
            ]
          },
          "metadata": {},
          "output_type": "display_data"
        },
        {
          "name": "stdout",
          "output_type": "stream",
          "text": [
            "Saving IMDB dataset.csv to IMDB dataset.csv\n"
          ]
        }
      ],
      "source": [
        "from google.colab import files\n",
        "uploaded = files.upload()"
      ]
    },
    {
      "cell_type": "code",
      "execution_count": null,
      "id": "gQmd1ESvcZyL",
      "metadata": {
        "id": "gQmd1ESvcZyL"
      },
      "outputs": [],
      "source": [
        "df = pd.read_csv(\"IMDB dataset.csv\")"
      ]
    },
    {
      "cell_type": "markdown",
      "id": "vdKlpB9nj6iN",
      "metadata": {
        "id": "vdKlpB9nj6iN"
      },
      "source": [
        "<h2><b>2. Data Preparation</b></h2>"
      ]
    },
    {
      "cell_type": "markdown",
      "id": "Uo_C9Ohok65Y",
      "metadata": {
        "id": "Uo_C9Ohok65Y"
      },
      "source": [
        "This section handles the input text by removing HTML tags, URLs, emails, digits, punctuation, extra spaces, and converting it to lowercase."
      ]
    },
    {
      "cell_type": "code",
      "execution_count": null,
      "id": "d7ba2176",
      "metadata": {
        "id": "d7ba2176"
      },
      "outputs": [],
      "source": [
        "lemmatizer = WordNetLemmatizer()\n",
        "def clean_text(text: str) -> str:\n",
        "    \"\"\"\n",
        "    - Remove HTML tags\n",
        "    - Remove URLs and emails\n",
        "    - Remove digits\n",
        "    - Remove punctuation/special chars\n",
        "    - Collapse multiple spaces\n",
        "    - Lowercase\n",
        "    \"\"\"\n",
        "    # Strip HTML\n",
        "    text = BeautifulSoup(text, \"html.parser\").get_text()\n",
        "    # Lowercase\n",
        "    text = text.lower()\n",
        "    # Remove URLs and emails\n",
        "    text = re.sub(r\"http\\S+|www\\.\\S+\", \"\", text)\n",
        "    text = re.sub(r\"\\S+@\\S+\", \"\", text)\n",
        "    # Remove digits\n",
        "    text = re.sub(r\"\\d+\", \"\", text)\n",
        "    # Remove punctuation (keep letters and whitespace)\n",
        "    text = re.sub(r\"[^\\w\\s]\", \" \", text)\n",
        "    # Collapse whitespace\n",
        "    text = re.sub(r\"\\s+\", \" \", text).strip()\n",
        "    return text"
      ]
    },
    {
      "cell_type": "code",
      "execution_count": null,
      "id": "714b97c2",
      "metadata": {
        "id": "714b97c2"
      },
      "outputs": [],
      "source": [
        "df[\"clean_text\"] = df[\"text\"].apply(clean_text)\n"
      ]
    },
    {
      "cell_type": "code",
      "execution_count": null,
      "id": "f03984ca",
      "metadata": {
        "colab": {
          "base_uri": "https://localhost:8080/",
          "height": 206
        },
        "id": "f03984ca",
        "outputId": "96922c0f-cc46-487f-9698-67fbda51b6da"
      },
      "outputs": [
        {
          "data": {
            "application/vnd.google.colaboratory.intrinsic+json": {
              "summary": "{\n  \"name\": \"df[[\\\"text\\\", \\\"clean_text\\\"]]\",\n  \"rows\": 5,\n  \"fields\": [\n    {\n      \"column\": \"text\",\n      \"properties\": {\n        \"dtype\": \"string\",\n        \"num_unique_values\": 5,\n        \"samples\": [\n          \"When I put this movie in my DVD player, and sat down with a coke and some chips, I had some expectations. I was hoping that this movie would contain some of the strong-points of the first movie: Awsome animation, good flowing story, excellent voice cast, funny comedy and a kick-ass soundtrack. But, to my disappointment, not any of this is to be found in Atlantis: Milo's Return. Had I read some reviews first, I might not have been so let down. The following paragraph will be directed to those who have seen the first movie, and who enjoyed it primarily for the points mentioned.<br /><br />When the first scene appears, your in for a shock if you just picked Atlantis: Milo's Return from the display-case at your local videoshop (or whatever), and had the expectations I had. The music feels as a bad imitation of the first movie, and the voice cast has been replaced by a not so fitting one. (With the exception of a few characters, like the voice of Sweet). The actual drawings isnt that bad, but the animation in particular is a sad sight. The storyline is also pretty weak, as its more like three episodes of Schooby-Doo than the single adventurous story we got the last time. But dont misunderstand, it's not very good Schooby-Doo episodes. I didnt laugh a single time, although I might have sniggered once or twice.<br /><br />To the audience who haven't seen the first movie, or don't especially care for a similar sequel, here is a fast review of this movie as a stand-alone product: If you liked schooby-doo, you might like this movie. If you didn't, you could still enjoy this movie if you have nothing else to do. And I suspect it might be a good kids movie, but I wouldn't know. It might have been better if Milo's Return had been a three-episode series on a cartoon channel, or on breakfast TV.\",\n          \"Im a die hard Dads Army fan and nothing will ever change that. I got all the tapes, DVD's and audiobooks and every time i watch/listen to them its brand new. <br /><br />The film. The film is a re run of certain episodes, Man and the hour, Enemy within the gates, Battle School and numerous others with a different edge. Introduction of a new General instead of Captain Square was a brilliant move - especially when he wouldn't cash the cheque (something that is rarely done now).<br /><br />It follows through the early years of getting equipment and uniforms, starting up and training. All in all, its a great film for a boring Sunday afternoon. <br /><br />Two draw backs. One is the Germans bogus dodgy accents (come one, Germans cant pronounced the letter \\\"W\\\" like us) and Two The casting of Liz Frazer instead of the familiar Janet Davis. I like Liz in other films like the carry ons but she doesn't carry it correctly in this and Janet Davis would have been the better choice.\",\n          \"Why do people who do not know what a particular time in the past was like feel the need to try to define that time for others? Replace Woodstock with the Civil War and the Apollo moon-landing with the Titanic sinking and you've got as realistic a flick as this formulaic soap opera populated entirely by low-life trash. Is this what kids who were too young to be allowed to go to Woodstock and who failed grade school composition do? \\\"I'll show those old meanies, I'll put out my own movie and prove that you don't have to know nuttin about your topic to still make money!\\\" Yeah, we already know that. The one thing watching this film did for me was to give me a little insight into underclass thinking. The next time I see a slut in a bar who looks like Diane Lane, I'm running the other way. It's child abuse to let parents that worthless raise kids. It's audience abuse to simply stick Woodstock and the moonlanding into a flick as if that ipso facto means the film portrays 1969.\"\n        ],\n        \"semantic_type\": \"\",\n        \"description\": \"\"\n      }\n    },\n    {\n      \"column\": \"clean_text\",\n      \"properties\": {\n        \"dtype\": \"string\",\n        \"num_unique_values\": 5,\n        \"samples\": [\n          \"when i put this movie in my dvd player and sat down with a coke and some chips i had some expectations i was hoping that this movie would contain some of the strong points of the first movie awsome animation good flowing story excellent voice cast funny comedy and a kick ass soundtrack but to my disappointment not any of this is to be found in atlantis milo s return had i read some reviews first i might not have been so let down the following paragraph will be directed to those who have seen the first movie and who enjoyed it primarily for the points mentioned when the first scene appears your in for a shock if you just picked atlantis milo s return from the display case at your local videoshop or whatever and had the expectations i had the music feels as a bad imitation of the first movie and the voice cast has been replaced by a not so fitting one with the exception of a few characters like the voice of sweet the actual drawings isnt that bad but the animation in particular is a sad sight the storyline is also pretty weak as its more like three episodes of schooby doo than the single adventurous story we got the last time but dont misunderstand it s not very good schooby doo episodes i didnt laugh a single time although i might have sniggered once or twice to the audience who haven t seen the first movie or don t especially care for a similar sequel here is a fast review of this movie as a stand alone product if you liked schooby doo you might like this movie if you didn t you could still enjoy this movie if you have nothing else to do and i suspect it might be a good kids movie but i wouldn t know it might have been better if milo s return had been a three episode series on a cartoon channel or on breakfast tv\",\n          \"im a die hard dads army fan and nothing will ever change that i got all the tapes dvd s and audiobooks and every time i watch listen to them its brand new the film the film is a re run of certain episodes man and the hour enemy within the gates battle school and numerous others with a different edge introduction of a new general instead of captain square was a brilliant move especially when he wouldn t cash the cheque something that is rarely done now it follows through the early years of getting equipment and uniforms starting up and training all in all its a great film for a boring sunday afternoon two draw backs one is the germans bogus dodgy accents come one germans cant pronounced the letter w like us and two the casting of liz frazer instead of the familiar janet davis i like liz in other films like the carry ons but she doesn t carry it correctly in this and janet davis would have been the better choice\",\n          \"why do people who do not know what a particular time in the past was like feel the need to try to define that time for others replace woodstock with the civil war and the apollo moon landing with the titanic sinking and you ve got as realistic a flick as this formulaic soap opera populated entirely by low life trash is this what kids who were too young to be allowed to go to woodstock and who failed grade school composition do i ll show those old meanies i ll put out my own movie and prove that you don t have to know nuttin about your topic to still make money yeah we already know that the one thing watching this film did for me was to give me a little insight into underclass thinking the next time i see a slut in a bar who looks like diane lane i m running the other way it s child abuse to let parents that worthless raise kids it s audience abuse to simply stick woodstock and the moonlanding into a flick as if that ipso facto means the film portrays\"\n        ],\n        \"semantic_type\": \"\",\n        \"description\": \"\"\n      }\n    }\n  ]\n}",
              "type": "dataframe"
            },
            "text/html": [
              "\n",
              "  <div id=\"df-d6a5cb9a-8d6c-4dfa-b277-4c9f29f8ed3a\" class=\"colab-df-container\">\n",
              "    <div>\n",
              "<style scoped>\n",
              "    .dataframe tbody tr th:only-of-type {\n",
              "        vertical-align: middle;\n",
              "    }\n",
              "\n",
              "    .dataframe tbody tr th {\n",
              "        vertical-align: top;\n",
              "    }\n",
              "\n",
              "    .dataframe thead th {\n",
              "        text-align: right;\n",
              "    }\n",
              "</style>\n",
              "<table border=\"1\" class=\"dataframe\">\n",
              "  <thead>\n",
              "    <tr style=\"text-align: right;\">\n",
              "      <th></th>\n",
              "      <th>text</th>\n",
              "      <th>clean_text</th>\n",
              "    </tr>\n",
              "  </thead>\n",
              "  <tbody>\n",
              "    <tr>\n",
              "      <th>0</th>\n",
              "      <td>I grew up (b. 1965) watching and loving the Th...</td>\n",
              "      <td>i grew up b watching and loving the thunderbir...</td>\n",
              "    </tr>\n",
              "    <tr>\n",
              "      <th>1</th>\n",
              "      <td>When I put this movie in my DVD player, and sa...</td>\n",
              "      <td>when i put this movie in my dvd player and sat...</td>\n",
              "    </tr>\n",
              "    <tr>\n",
              "      <th>2</th>\n",
              "      <td>Why do people who do not know what a particula...</td>\n",
              "      <td>why do people who do not know what a particula...</td>\n",
              "    </tr>\n",
              "    <tr>\n",
              "      <th>3</th>\n",
              "      <td>Even though I have great interest in Biblical ...</td>\n",
              "      <td>even though i have great interest in biblical ...</td>\n",
              "    </tr>\n",
              "    <tr>\n",
              "      <th>4</th>\n",
              "      <td>Im a die hard Dads Army fan and nothing will e...</td>\n",
              "      <td>im a die hard dads army fan and nothing will e...</td>\n",
              "    </tr>\n",
              "  </tbody>\n",
              "</table>\n",
              "</div>\n",
              "    <div class=\"colab-df-buttons\">\n",
              "\n",
              "  <div class=\"colab-df-container\">\n",
              "    <button class=\"colab-df-convert\" onclick=\"convertToInteractive('df-d6a5cb9a-8d6c-4dfa-b277-4c9f29f8ed3a')\"\n",
              "            title=\"Convert this dataframe to an interactive table.\"\n",
              "            style=\"display:none;\">\n",
              "\n",
              "  <svg xmlns=\"http://www.w3.org/2000/svg\" height=\"24px\" viewBox=\"0 -960 960 960\">\n",
              "    <path d=\"M120-120v-720h720v720H120Zm60-500h600v-160H180v160Zm220 220h160v-160H400v160Zm0 220h160v-160H400v160ZM180-400h160v-160H180v160Zm440 0h160v-160H620v160ZM180-180h160v-160H180v160Zm440 0h160v-160H620v160Z\"/>\n",
              "  </svg>\n",
              "    </button>\n",
              "\n",
              "  <style>\n",
              "    .colab-df-container {\n",
              "      display:flex;\n",
              "      gap: 12px;\n",
              "    }\n",
              "\n",
              "    .colab-df-convert {\n",
              "      background-color: #E8F0FE;\n",
              "      border: none;\n",
              "      border-radius: 50%;\n",
              "      cursor: pointer;\n",
              "      display: none;\n",
              "      fill: #1967D2;\n",
              "      height: 32px;\n",
              "      padding: 0 0 0 0;\n",
              "      width: 32px;\n",
              "    }\n",
              "\n",
              "    .colab-df-convert:hover {\n",
              "      background-color: #E2EBFA;\n",
              "      box-shadow: 0px 1px 2px rgba(60, 64, 67, 0.3), 0px 1px 3px 1px rgba(60, 64, 67, 0.15);\n",
              "      fill: #174EA6;\n",
              "    }\n",
              "\n",
              "    .colab-df-buttons div {\n",
              "      margin-bottom: 4px;\n",
              "    }\n",
              "\n",
              "    [theme=dark] .colab-df-convert {\n",
              "      background-color: #3B4455;\n",
              "      fill: #D2E3FC;\n",
              "    }\n",
              "\n",
              "    [theme=dark] .colab-df-convert:hover {\n",
              "      background-color: #434B5C;\n",
              "      box-shadow: 0px 1px 3px 1px rgba(0, 0, 0, 0.15);\n",
              "      filter: drop-shadow(0px 1px 2px rgba(0, 0, 0, 0.3));\n",
              "      fill: #FFFFFF;\n",
              "    }\n",
              "  </style>\n",
              "\n",
              "    <script>\n",
              "      const buttonEl =\n",
              "        document.querySelector('#df-d6a5cb9a-8d6c-4dfa-b277-4c9f29f8ed3a button.colab-df-convert');\n",
              "      buttonEl.style.display =\n",
              "        google.colab.kernel.accessAllowed ? 'block' : 'none';\n",
              "\n",
              "      async function convertToInteractive(key) {\n",
              "        const element = document.querySelector('#df-d6a5cb9a-8d6c-4dfa-b277-4c9f29f8ed3a');\n",
              "        const dataTable =\n",
              "          await google.colab.kernel.invokeFunction('convertToInteractive',\n",
              "                                                    [key], {});\n",
              "        if (!dataTable) return;\n",
              "\n",
              "        const docLinkHtml = 'Like what you see? Visit the ' +\n",
              "          '<a target=\"_blank\" href=https://colab.research.google.com/notebooks/data_table.ipynb>data table notebook</a>'\n",
              "          + ' to learn more about interactive tables.';\n",
              "        element.innerHTML = '';\n",
              "        dataTable['output_type'] = 'display_data';\n",
              "        await google.colab.output.renderOutput(dataTable, element);\n",
              "        const docLink = document.createElement('div');\n",
              "        docLink.innerHTML = docLinkHtml;\n",
              "        element.appendChild(docLink);\n",
              "      }\n",
              "    </script>\n",
              "  </div>\n",
              "\n",
              "\n",
              "<div id=\"df-3139ad42-863e-41f1-be5f-b089020fbfc7\">\n",
              "  <button class=\"colab-df-quickchart\" onclick=\"quickchart('df-3139ad42-863e-41f1-be5f-b089020fbfc7')\"\n",
              "            title=\"Suggest charts\"\n",
              "            style=\"display:none;\">\n",
              "\n",
              "<svg xmlns=\"http://www.w3.org/2000/svg\" height=\"24px\"viewBox=\"0 0 24 24\"\n",
              "     width=\"24px\">\n",
              "    <g>\n",
              "        <path d=\"M19 3H5c-1.1 0-2 .9-2 2v14c0 1.1.9 2 2 2h14c1.1 0 2-.9 2-2V5c0-1.1-.9-2-2-2zM9 17H7v-7h2v7zm4 0h-2V7h2v10zm4 0h-2v-4h2v4z\"/>\n",
              "    </g>\n",
              "</svg>\n",
              "  </button>\n",
              "\n",
              "<style>\n",
              "  .colab-df-quickchart {\n",
              "      --bg-color: #E8F0FE;\n",
              "      --fill-color: #1967D2;\n",
              "      --hover-bg-color: #E2EBFA;\n",
              "      --hover-fill-color: #174EA6;\n",
              "      --disabled-fill-color: #AAA;\n",
              "      --disabled-bg-color: #DDD;\n",
              "  }\n",
              "\n",
              "  [theme=dark] .colab-df-quickchart {\n",
              "      --bg-color: #3B4455;\n",
              "      --fill-color: #D2E3FC;\n",
              "      --hover-bg-color: #434B5C;\n",
              "      --hover-fill-color: #FFFFFF;\n",
              "      --disabled-bg-color: #3B4455;\n",
              "      --disabled-fill-color: #666;\n",
              "  }\n",
              "\n",
              "  .colab-df-quickchart {\n",
              "    background-color: var(--bg-color);\n",
              "    border: none;\n",
              "    border-radius: 50%;\n",
              "    cursor: pointer;\n",
              "    display: none;\n",
              "    fill: var(--fill-color);\n",
              "    height: 32px;\n",
              "    padding: 0;\n",
              "    width: 32px;\n",
              "  }\n",
              "\n",
              "  .colab-df-quickchart:hover {\n",
              "    background-color: var(--hover-bg-color);\n",
              "    box-shadow: 0 1px 2px rgba(60, 64, 67, 0.3), 0 1px 3px 1px rgba(60, 64, 67, 0.15);\n",
              "    fill: var(--button-hover-fill-color);\n",
              "  }\n",
              "\n",
              "  .colab-df-quickchart-complete:disabled,\n",
              "  .colab-df-quickchart-complete:disabled:hover {\n",
              "    background-color: var(--disabled-bg-color);\n",
              "    fill: var(--disabled-fill-color);\n",
              "    box-shadow: none;\n",
              "  }\n",
              "\n",
              "  .colab-df-spinner {\n",
              "    border: 2px solid var(--fill-color);\n",
              "    border-color: transparent;\n",
              "    border-bottom-color: var(--fill-color);\n",
              "    animation:\n",
              "      spin 1s steps(1) infinite;\n",
              "  }\n",
              "\n",
              "  @keyframes spin {\n",
              "    0% {\n",
              "      border-color: transparent;\n",
              "      border-bottom-color: var(--fill-color);\n",
              "      border-left-color: var(--fill-color);\n",
              "    }\n",
              "    20% {\n",
              "      border-color: transparent;\n",
              "      border-left-color: var(--fill-color);\n",
              "      border-top-color: var(--fill-color);\n",
              "    }\n",
              "    30% {\n",
              "      border-color: transparent;\n",
              "      border-left-color: var(--fill-color);\n",
              "      border-top-color: var(--fill-color);\n",
              "      border-right-color: var(--fill-color);\n",
              "    }\n",
              "    40% {\n",
              "      border-color: transparent;\n",
              "      border-right-color: var(--fill-color);\n",
              "      border-top-color: var(--fill-color);\n",
              "    }\n",
              "    60% {\n",
              "      border-color: transparent;\n",
              "      border-right-color: var(--fill-color);\n",
              "    }\n",
              "    80% {\n",
              "      border-color: transparent;\n",
              "      border-right-color: var(--fill-color);\n",
              "      border-bottom-color: var(--fill-color);\n",
              "    }\n",
              "    90% {\n",
              "      border-color: transparent;\n",
              "      border-bottom-color: var(--fill-color);\n",
              "    }\n",
              "  }\n",
              "</style>\n",
              "\n",
              "  <script>\n",
              "    async function quickchart(key) {\n",
              "      const quickchartButtonEl =\n",
              "        document.querySelector('#' + key + ' button');\n",
              "      quickchartButtonEl.disabled = true;  // To prevent multiple clicks.\n",
              "      quickchartButtonEl.classList.add('colab-df-spinner');\n",
              "      try {\n",
              "        const charts = await google.colab.kernel.invokeFunction(\n",
              "            'suggestCharts', [key], {});\n",
              "      } catch (error) {\n",
              "        console.error('Error during call to suggestCharts:', error);\n",
              "      }\n",
              "      quickchartButtonEl.classList.remove('colab-df-spinner');\n",
              "      quickchartButtonEl.classList.add('colab-df-quickchart-complete');\n",
              "    }\n",
              "    (() => {\n",
              "      let quickchartButtonEl =\n",
              "        document.querySelector('#df-3139ad42-863e-41f1-be5f-b089020fbfc7 button');\n",
              "      quickchartButtonEl.style.display =\n",
              "        google.colab.kernel.accessAllowed ? 'block' : 'none';\n",
              "    })();\n",
              "  </script>\n",
              "</div>\n",
              "\n",
              "    </div>\n",
              "  </div>\n"
            ],
            "text/plain": [
              "                                                text  \\\n",
              "0  I grew up (b. 1965) watching and loving the Th...   \n",
              "1  When I put this movie in my DVD player, and sa...   \n",
              "2  Why do people who do not know what a particula...   \n",
              "3  Even though I have great interest in Biblical ...   \n",
              "4  Im a die hard Dads Army fan and nothing will e...   \n",
              "\n",
              "                                          clean_text  \n",
              "0  i grew up b watching and loving the thunderbir...  \n",
              "1  when i put this movie in my dvd player and sat...  \n",
              "2  why do people who do not know what a particula...  \n",
              "3  even though i have great interest in biblical ...  \n",
              "4  im a die hard dads army fan and nothing will e...  "
            ]
          },
          "execution_count": 8,
          "metadata": {},
          "output_type": "execute_result"
        }
      ],
      "source": [
        "# quick check\n",
        "df[[\"text\", \"clean_text\"]].head()"
      ]
    },
    {
      "cell_type": "code",
      "execution_count": null,
      "id": "853ab5ce",
      "metadata": {
        "colab": {
          "base_uri": "https://localhost:8080/"
        },
        "id": "853ab5ce",
        "outputId": "a845d1bf-54bf-4f8a-86e3-1cf93f73c9ba"
      },
      "outputs": [
        {
          "name": "stderr",
          "output_type": "stream",
          "text": [
            "[nltk_data] Downloading package punkt_tab to /root/nltk_data...\n",
            "[nltk_data]   Unzipping tokenizers/punkt_tab.zip.\n",
            "[nltk_data] Downloading package stopwords to /root/nltk_data...\n",
            "[nltk_data]   Unzipping corpora/stopwords.zip.\n",
            "[nltk_data] Downloading package wordnet to /root/nltk_data...\n",
            "[nltk_data] Downloading package omw-1.4 to /root/nltk_data...\n"
          ]
        }
      ],
      "source": [
        "nltk.download('punkt_tab')\n",
        "nltk.download('stopwords')\n",
        "nltk.download('wordnet')\n",
        "nltk.download('omw-1.4')\n",
        "\n",
        "\n",
        "# build your stop‑word set\n",
        "stop_words = set(stopwords.words('english'))"
      ]
    },
    {
      "cell_type": "code",
      "execution_count": null,
      "id": "9501f870",
      "metadata": {
        "id": "9501f870"
      },
      "outputs": [],
      "source": [
        "from nltk.tokenize import word_tokenize\n",
        "from nltk.corpus import stopwords\n",
        "\n",
        "stop_words = set(stopwords.words('english'))\n",
        "\n",
        "def tokenize_and_lemmatize(text: str):\n",
        "    tokens = word_tokenize(text)\n",
        "    lemmas = [\n",
        "        lemmatizer.lemmatize(t)\n",
        "        for t in tokens\n",
        "        if t.isalpha() and t not in stop_words\n",
        "    ]\n",
        "    return lemmas"
      ]
    },
    {
      "cell_type": "code",
      "execution_count": null,
      "id": "446add88",
      "metadata": {
        "id": "446add88"
      },
      "outputs": [],
      "source": [
        "df[\"tokens\"] = df[\"clean_text\"].apply(tokenize_and_lemmatize)"
      ]
    },
    {
      "cell_type": "code",
      "execution_count": null,
      "id": "31b0b778",
      "metadata": {
        "colab": {
          "base_uri": "https://localhost:8080/",
          "height": 206
        },
        "id": "31b0b778",
        "outputId": "a8db636a-30f3-40be-e480-4a80ad979a40"
      },
      "outputs": [
        {
          "data": {
            "application/vnd.google.colaboratory.intrinsic+json": {
              "summary": "{\n  \"name\": \"df[['clean_text','tokens']]\",\n  \"rows\": 5,\n  \"fields\": [\n    {\n      \"column\": \"clean_text\",\n      \"properties\": {\n        \"dtype\": \"string\",\n        \"num_unique_values\": 5,\n        \"samples\": [\n          \"when i put this movie in my dvd player and sat down with a coke and some chips i had some expectations i was hoping that this movie would contain some of the strong points of the first movie awsome animation good flowing story excellent voice cast funny comedy and a kick ass soundtrack but to my disappointment not any of this is to be found in atlantis milo s return had i read some reviews first i might not have been so let down the following paragraph will be directed to those who have seen the first movie and who enjoyed it primarily for the points mentioned when the first scene appears your in for a shock if you just picked atlantis milo s return from the display case at your local videoshop or whatever and had the expectations i had the music feels as a bad imitation of the first movie and the voice cast has been replaced by a not so fitting one with the exception of a few characters like the voice of sweet the actual drawings isnt that bad but the animation in particular is a sad sight the storyline is also pretty weak as its more like three episodes of schooby doo than the single adventurous story we got the last time but dont misunderstand it s not very good schooby doo episodes i didnt laugh a single time although i might have sniggered once or twice to the audience who haven t seen the first movie or don t especially care for a similar sequel here is a fast review of this movie as a stand alone product if you liked schooby doo you might like this movie if you didn t you could still enjoy this movie if you have nothing else to do and i suspect it might be a good kids movie but i wouldn t know it might have been better if milo s return had been a three episode series on a cartoon channel or on breakfast tv\",\n          \"im a die hard dads army fan and nothing will ever change that i got all the tapes dvd s and audiobooks and every time i watch listen to them its brand new the film the film is a re run of certain episodes man and the hour enemy within the gates battle school and numerous others with a different edge introduction of a new general instead of captain square was a brilliant move especially when he wouldn t cash the cheque something that is rarely done now it follows through the early years of getting equipment and uniforms starting up and training all in all its a great film for a boring sunday afternoon two draw backs one is the germans bogus dodgy accents come one germans cant pronounced the letter w like us and two the casting of liz frazer instead of the familiar janet davis i like liz in other films like the carry ons but she doesn t carry it correctly in this and janet davis would have been the better choice\",\n          \"why do people who do not know what a particular time in the past was like feel the need to try to define that time for others replace woodstock with the civil war and the apollo moon landing with the titanic sinking and you ve got as realistic a flick as this formulaic soap opera populated entirely by low life trash is this what kids who were too young to be allowed to go to woodstock and who failed grade school composition do i ll show those old meanies i ll put out my own movie and prove that you don t have to know nuttin about your topic to still make money yeah we already know that the one thing watching this film did for me was to give me a little insight into underclass thinking the next time i see a slut in a bar who looks like diane lane i m running the other way it s child abuse to let parents that worthless raise kids it s audience abuse to simply stick woodstock and the moonlanding into a flick as if that ipso facto means the film portrays\"\n        ],\n        \"semantic_type\": \"\",\n        \"description\": \"\"\n      }\n    },\n    {\n      \"column\": \"tokens\",\n      \"properties\": {\n        \"dtype\": \"object\",\n        \"semantic_type\": \"\",\n        \"description\": \"\"\n      }\n    }\n  ]\n}",
              "type": "dataframe"
            },
            "text/html": [
              "\n",
              "  <div id=\"df-05fe0c76-b376-4a57-ae50-50d549dcff70\" class=\"colab-df-container\">\n",
              "    <div>\n",
              "<style scoped>\n",
              "    .dataframe tbody tr th:only-of-type {\n",
              "        vertical-align: middle;\n",
              "    }\n",
              "\n",
              "    .dataframe tbody tr th {\n",
              "        vertical-align: top;\n",
              "    }\n",
              "\n",
              "    .dataframe thead th {\n",
              "        text-align: right;\n",
              "    }\n",
              "</style>\n",
              "<table border=\"1\" class=\"dataframe\">\n",
              "  <thead>\n",
              "    <tr style=\"text-align: right;\">\n",
              "      <th></th>\n",
              "      <th>clean_text</th>\n",
              "      <th>tokens</th>\n",
              "    </tr>\n",
              "  </thead>\n",
              "  <tbody>\n",
              "    <tr>\n",
              "      <th>0</th>\n",
              "      <td>i grew up b watching and loving the thunderbir...</td>\n",
              "      <td>[grew, b, watching, loving, thunderbird, mate,...</td>\n",
              "    </tr>\n",
              "    <tr>\n",
              "      <th>1</th>\n",
              "      <td>when i put this movie in my dvd player and sat...</td>\n",
              "      <td>[put, movie, dvd, player, sat, coke, chip, exp...</td>\n",
              "    </tr>\n",
              "    <tr>\n",
              "      <th>2</th>\n",
              "      <td>why do people who do not know what a particula...</td>\n",
              "      <td>[people, know, particular, time, past, like, f...</td>\n",
              "    </tr>\n",
              "    <tr>\n",
              "      <th>3</th>\n",
              "      <td>even though i have great interest in biblical ...</td>\n",
              "      <td>[even, though, great, interest, biblical, movi...</td>\n",
              "    </tr>\n",
              "    <tr>\n",
              "      <th>4</th>\n",
              "      <td>im a die hard dads army fan and nothing will e...</td>\n",
              "      <td>[im, die, hard, dad, army, fan, nothing, ever,...</td>\n",
              "    </tr>\n",
              "  </tbody>\n",
              "</table>\n",
              "</div>\n",
              "    <div class=\"colab-df-buttons\">\n",
              "\n",
              "  <div class=\"colab-df-container\">\n",
              "    <button class=\"colab-df-convert\" onclick=\"convertToInteractive('df-05fe0c76-b376-4a57-ae50-50d549dcff70')\"\n",
              "            title=\"Convert this dataframe to an interactive table.\"\n",
              "            style=\"display:none;\">\n",
              "\n",
              "  <svg xmlns=\"http://www.w3.org/2000/svg\" height=\"24px\" viewBox=\"0 -960 960 960\">\n",
              "    <path d=\"M120-120v-720h720v720H120Zm60-500h600v-160H180v160Zm220 220h160v-160H400v160Zm0 220h160v-160H400v160ZM180-400h160v-160H180v160Zm440 0h160v-160H620v160ZM180-180h160v-160H180v160Zm440 0h160v-160H620v160Z\"/>\n",
              "  </svg>\n",
              "    </button>\n",
              "\n",
              "  <style>\n",
              "    .colab-df-container {\n",
              "      display:flex;\n",
              "      gap: 12px;\n",
              "    }\n",
              "\n",
              "    .colab-df-convert {\n",
              "      background-color: #E8F0FE;\n",
              "      border: none;\n",
              "      border-radius: 50%;\n",
              "      cursor: pointer;\n",
              "      display: none;\n",
              "      fill: #1967D2;\n",
              "      height: 32px;\n",
              "      padding: 0 0 0 0;\n",
              "      width: 32px;\n",
              "    }\n",
              "\n",
              "    .colab-df-convert:hover {\n",
              "      background-color: #E2EBFA;\n",
              "      box-shadow: 0px 1px 2px rgba(60, 64, 67, 0.3), 0px 1px 3px 1px rgba(60, 64, 67, 0.15);\n",
              "      fill: #174EA6;\n",
              "    }\n",
              "\n",
              "    .colab-df-buttons div {\n",
              "      margin-bottom: 4px;\n",
              "    }\n",
              "\n",
              "    [theme=dark] .colab-df-convert {\n",
              "      background-color: #3B4455;\n",
              "      fill: #D2E3FC;\n",
              "    }\n",
              "\n",
              "    [theme=dark] .colab-df-convert:hover {\n",
              "      background-color: #434B5C;\n",
              "      box-shadow: 0px 1px 3px 1px rgba(0, 0, 0, 0.15);\n",
              "      filter: drop-shadow(0px 1px 2px rgba(0, 0, 0, 0.3));\n",
              "      fill: #FFFFFF;\n",
              "    }\n",
              "  </style>\n",
              "\n",
              "    <script>\n",
              "      const buttonEl =\n",
              "        document.querySelector('#df-05fe0c76-b376-4a57-ae50-50d549dcff70 button.colab-df-convert');\n",
              "      buttonEl.style.display =\n",
              "        google.colab.kernel.accessAllowed ? 'block' : 'none';\n",
              "\n",
              "      async function convertToInteractive(key) {\n",
              "        const element = document.querySelector('#df-05fe0c76-b376-4a57-ae50-50d549dcff70');\n",
              "        const dataTable =\n",
              "          await google.colab.kernel.invokeFunction('convertToInteractive',\n",
              "                                                    [key], {});\n",
              "        if (!dataTable) return;\n",
              "\n",
              "        const docLinkHtml = 'Like what you see? Visit the ' +\n",
              "          '<a target=\"_blank\" href=https://colab.research.google.com/notebooks/data_table.ipynb>data table notebook</a>'\n",
              "          + ' to learn more about interactive tables.';\n",
              "        element.innerHTML = '';\n",
              "        dataTable['output_type'] = 'display_data';\n",
              "        await google.colab.output.renderOutput(dataTable, element);\n",
              "        const docLink = document.createElement('div');\n",
              "        docLink.innerHTML = docLinkHtml;\n",
              "        element.appendChild(docLink);\n",
              "      }\n",
              "    </script>\n",
              "  </div>\n",
              "\n",
              "\n",
              "<div id=\"df-926b21a7-693b-4d72-888f-a0e1193d45e6\">\n",
              "  <button class=\"colab-df-quickchart\" onclick=\"quickchart('df-926b21a7-693b-4d72-888f-a0e1193d45e6')\"\n",
              "            title=\"Suggest charts\"\n",
              "            style=\"display:none;\">\n",
              "\n",
              "<svg xmlns=\"http://www.w3.org/2000/svg\" height=\"24px\"viewBox=\"0 0 24 24\"\n",
              "     width=\"24px\">\n",
              "    <g>\n",
              "        <path d=\"M19 3H5c-1.1 0-2 .9-2 2v14c0 1.1.9 2 2 2h14c1.1 0 2-.9 2-2V5c0-1.1-.9-2-2-2zM9 17H7v-7h2v7zm4 0h-2V7h2v10zm4 0h-2v-4h2v4z\"/>\n",
              "    </g>\n",
              "</svg>\n",
              "  </button>\n",
              "\n",
              "<style>\n",
              "  .colab-df-quickchart {\n",
              "      --bg-color: #E8F0FE;\n",
              "      --fill-color: #1967D2;\n",
              "      --hover-bg-color: #E2EBFA;\n",
              "      --hover-fill-color: #174EA6;\n",
              "      --disabled-fill-color: #AAA;\n",
              "      --disabled-bg-color: #DDD;\n",
              "  }\n",
              "\n",
              "  [theme=dark] .colab-df-quickchart {\n",
              "      --bg-color: #3B4455;\n",
              "      --fill-color: #D2E3FC;\n",
              "      --hover-bg-color: #434B5C;\n",
              "      --hover-fill-color: #FFFFFF;\n",
              "      --disabled-bg-color: #3B4455;\n",
              "      --disabled-fill-color: #666;\n",
              "  }\n",
              "\n",
              "  .colab-df-quickchart {\n",
              "    background-color: var(--bg-color);\n",
              "    border: none;\n",
              "    border-radius: 50%;\n",
              "    cursor: pointer;\n",
              "    display: none;\n",
              "    fill: var(--fill-color);\n",
              "    height: 32px;\n",
              "    padding: 0;\n",
              "    width: 32px;\n",
              "  }\n",
              "\n",
              "  .colab-df-quickchart:hover {\n",
              "    background-color: var(--hover-bg-color);\n",
              "    box-shadow: 0 1px 2px rgba(60, 64, 67, 0.3), 0 1px 3px 1px rgba(60, 64, 67, 0.15);\n",
              "    fill: var(--button-hover-fill-color);\n",
              "  }\n",
              "\n",
              "  .colab-df-quickchart-complete:disabled,\n",
              "  .colab-df-quickchart-complete:disabled:hover {\n",
              "    background-color: var(--disabled-bg-color);\n",
              "    fill: var(--disabled-fill-color);\n",
              "    box-shadow: none;\n",
              "  }\n",
              "\n",
              "  .colab-df-spinner {\n",
              "    border: 2px solid var(--fill-color);\n",
              "    border-color: transparent;\n",
              "    border-bottom-color: var(--fill-color);\n",
              "    animation:\n",
              "      spin 1s steps(1) infinite;\n",
              "  }\n",
              "\n",
              "  @keyframes spin {\n",
              "    0% {\n",
              "      border-color: transparent;\n",
              "      border-bottom-color: var(--fill-color);\n",
              "      border-left-color: var(--fill-color);\n",
              "    }\n",
              "    20% {\n",
              "      border-color: transparent;\n",
              "      border-left-color: var(--fill-color);\n",
              "      border-top-color: var(--fill-color);\n",
              "    }\n",
              "    30% {\n",
              "      border-color: transparent;\n",
              "      border-left-color: var(--fill-color);\n",
              "      border-top-color: var(--fill-color);\n",
              "      border-right-color: var(--fill-color);\n",
              "    }\n",
              "    40% {\n",
              "      border-color: transparent;\n",
              "      border-right-color: var(--fill-color);\n",
              "      border-top-color: var(--fill-color);\n",
              "    }\n",
              "    60% {\n",
              "      border-color: transparent;\n",
              "      border-right-color: var(--fill-color);\n",
              "    }\n",
              "    80% {\n",
              "      border-color: transparent;\n",
              "      border-right-color: var(--fill-color);\n",
              "      border-bottom-color: var(--fill-color);\n",
              "    }\n",
              "    90% {\n",
              "      border-color: transparent;\n",
              "      border-bottom-color: var(--fill-color);\n",
              "    }\n",
              "  }\n",
              "</style>\n",
              "\n",
              "  <script>\n",
              "    async function quickchart(key) {\n",
              "      const quickchartButtonEl =\n",
              "        document.querySelector('#' + key + ' button');\n",
              "      quickchartButtonEl.disabled = true;  // To prevent multiple clicks.\n",
              "      quickchartButtonEl.classList.add('colab-df-spinner');\n",
              "      try {\n",
              "        const charts = await google.colab.kernel.invokeFunction(\n",
              "            'suggestCharts', [key], {});\n",
              "      } catch (error) {\n",
              "        console.error('Error during call to suggestCharts:', error);\n",
              "      }\n",
              "      quickchartButtonEl.classList.remove('colab-df-spinner');\n",
              "      quickchartButtonEl.classList.add('colab-df-quickchart-complete');\n",
              "    }\n",
              "    (() => {\n",
              "      let quickchartButtonEl =\n",
              "        document.querySelector('#df-926b21a7-693b-4d72-888f-a0e1193d45e6 button');\n",
              "      quickchartButtonEl.style.display =\n",
              "        google.colab.kernel.accessAllowed ? 'block' : 'none';\n",
              "    })();\n",
              "  </script>\n",
              "</div>\n",
              "\n",
              "    </div>\n",
              "  </div>\n"
            ],
            "text/plain": [
              "                                          clean_text  \\\n",
              "0  i grew up b watching and loving the thunderbir...   \n",
              "1  when i put this movie in my dvd player and sat...   \n",
              "2  why do people who do not know what a particula...   \n",
              "3  even though i have great interest in biblical ...   \n",
              "4  im a die hard dads army fan and nothing will e...   \n",
              "\n",
              "                                              tokens  \n",
              "0  [grew, b, watching, loving, thunderbird, mate,...  \n",
              "1  [put, movie, dvd, player, sat, coke, chip, exp...  \n",
              "2  [people, know, particular, time, past, like, f...  \n",
              "3  [even, though, great, interest, biblical, movi...  \n",
              "4  [im, die, hard, dad, army, fan, nothing, ever,...  "
            ]
          },
          "execution_count": 12,
          "metadata": {},
          "output_type": "execute_result"
        }
      ],
      "source": [
        "# inspect\n",
        "df[['clean_text','tokens']].head()"
      ]
    },
    {
      "cell_type": "code",
      "execution_count": null,
      "id": "49a6c965",
      "metadata": {
        "id": "49a6c965"
      },
      "outputs": [],
      "source": [
        "from sklearn.model_selection import train_test_split\n",
        "\n",
        "# join the tokens\n",
        "df['tokens_joined'] = df['tokens'].apply(lambda toks: \" \".join(toks))\n",
        "\n",
        "X = df['tokens_joined']\n",
        "y = df['label']\n",
        "\n",
        "X_train, X_test, y_train, y_test = train_test_split(\n",
        "    X, y,\n",
        "    stratify=y,\n",
        "    test_size=0.2,\n",
        "    random_state=42\n",
        ")"
      ]
    },
    {
      "cell_type": "markdown",
      "id": "rBh7_D1clZnl",
      "metadata": {
        "id": "rBh7_D1clZnl"
      },
      "source": [
        "<h2><b>2.1 TF-IDF (Unigrams Only)</b></h2>"
      ]
    },
    {
      "cell_type": "markdown",
      "source": [
        "For traditional machine learning models (SVM, Random Forest, XG-\n",
        "Boost), we apply TfidfVectorizer using only unigrams. This sparse feature representation captures the importance of individual terms by weighting them inversely by document frequency. We cap the vocabulary at 20,000 terms to limit dimensionality and overfitting."
      ],
      "metadata": {
        "id": "eXEUeyR5AEIf"
      },
      "id": "eXEUeyR5AEIf"
    },
    {
      "cell_type": "code",
      "execution_count": null,
      "id": "fd401264",
      "metadata": {
        "colab": {
          "base_uri": "https://localhost:8080/"
        },
        "id": "fd401264",
        "outputId": "2510b60d-122f-48f0-d3ff-492540c068cd"
      },
      "outputs": [
        {
          "name": "stdout",
          "output_type": "stream",
          "text": [
            "TF‑IDF → (32000, 20000) train samples × features\n"
          ]
        }
      ],
      "source": [
        "# TF-IDF\n",
        "from sklearn.feature_extraction.text import TfidfVectorizer\n",
        "\n",
        "tfidf_vect = TfidfVectorizer(\n",
        "    max_features=20_000,    # cap your vocab size\n",
        "    ngram_range=(1,1),      # only unigrams\n",
        "    #  ngram_range=(1,2)\n",
        ")\n",
        "\n",
        "# fit on train, transform both splits\n",
        "X_train_tfidf = tfidf_vect.fit_transform(X_train)\n",
        "X_test_tfidf  = tfidf_vect.transform(X_test)\n",
        "\n",
        "print(\"TF‑IDF →\",\n",
        "      X_train_tfidf.shape, \"train samples × features\")\n"
      ]
    },
    {
      "cell_type": "markdown",
      "id": "A1qJre0bjYUT",
      "metadata": {
        "id": "A1qJre0bjYUT"
      },
      "source": [
        "<h2><b> 2.2 CountVectorizer with N-Gram</b></h2>"
      ]
    },
    {
      "cell_type": "markdown",
      "source": [
        "We also use CountVectorizer with an n-gram range of 1\n",
        "to 3 to extract frequently occurring word sequences (unigrams, bigrams, and trigrams). This approach captures simple phrase patterns without any weighting, and is particularly useful for traditional models that benefit from phrase-level features"
      ],
      "metadata": {
        "id": "n0ruZItzArVB"
      },
      "id": "n0ruZItzArVB"
    },
    {
      "cell_type": "code",
      "execution_count": null,
      "id": "337d90e1",
      "metadata": {
        "colab": {
          "base_uri": "https://localhost:8080/"
        },
        "id": "337d90e1",
        "outputId": "7f3466d6-dd6d-4f3a-a7b3-99432ad959e1"
      },
      "outputs": [
        {
          "name": "stdout",
          "output_type": "stream",
          "text": [
            "n‑gram Count → (32000, 20000) train samples × features\n"
          ]
        }
      ],
      "source": [
        "# N-Gram vectorization\n",
        "from sklearn.feature_extraction.text import CountVectorizer\n",
        "\n",
        "# CountVectorizer\n",
        "count_vect = CountVectorizer(\n",
        "    max_features=20_000,\n",
        "    ngram_range=(1,3),\n",
        ")\n",
        "\n",
        "X_train_count = count_vect.fit_transform(X_train)\n",
        "X_test_count  = count_vect.transform(X_test)\n",
        "\n",
        "print(\"n‑gram Count →\",\n",
        "      X_train_count.shape, \"train samples × features\")"
      ]
    },
    {
      "cell_type": "markdown",
      "id": "yWhV4RtR3WHr",
      "metadata": {
        "id": "yWhV4RtR3WHr"
      },
      "source": [
        "<h2><b> 2.3 GloVe Vectorization</b></h2>"
      ]
    },
    {
      "cell_type": "markdown",
      "source": [
        "We use the pre-trained 25-dimensional glove-twitter-25 embed-\n",
        "dings from Gensim to convert each review into a dense vector by averaging the word vectors of all valid (non-stopword) tokens. This embedding-based representation captures semantic similarities between words and provides dense input for traditional classifiers."
      ],
      "metadata": {
        "id": "hPy_g4SCAt_o"
      },
      "id": "hPy_g4SCAt_o"
    },
    {
      "cell_type": "code",
      "execution_count": null,
      "id": "OOeH8wtE1-Wi",
      "metadata": {
        "colab": {
          "base_uri": "https://localhost:8080/"
        },
        "id": "OOeH8wtE1-Wi",
        "outputId": "83c29d5b-cd3a-4b6a-9b0c-d4856fbe77a3"
      },
      "outputs": [
        {
          "name": "stderr",
          "output_type": "stream",
          "text": [
            "[nltk_data] Downloading package stopwords to /root/nltk_data...\n",
            "[nltk_data]   Package stopwords is already up-to-date!\n"
          ]
        },
        {
          "name": "stdout",
          "output_type": "stream",
          "text": [
            "GloVe → (32000, 25) train samples × 25-dim features\n"
          ]
        }
      ],
      "source": [
        "# Manual download & loading of GloVe\n",
        "import os, zipfile, requests, io, re\n",
        "import numpy as np\n",
        "from sklearn.model_selection import train_test_split\n",
        "\n",
        "# Download and unzip GloVe Twitter 25d\n",
        "url = \"http://nlp.stanford.edu/data/glove.twitter.27B.zip\"\n",
        "r = requests.get(url)\n",
        "z = zipfile.ZipFile(io.BytesIO(r.content))\n",
        "z.extract(\"glove.twitter.27B.25d.txt\", path=\"glove\")\n",
        "\n",
        "# Read glove file to dictionary\n",
        "glove_path = \"glove/glove.twitter.27B.25d.txt\"\n",
        "glove_dict = {}\n",
        "with open(glove_path, \"r\", encoding=\"utf8\") as f:\n",
        "    for line in f:\n",
        "        parts = line.strip().split()\n",
        "        word = parts[0]\n",
        "        vec  = np.array(parts[1:], dtype=np.float32)\n",
        "        glove_dict[word] = vec\n",
        "\n",
        "# Create doc2vec function\n",
        "import nltk\n",
        "nltk.download(\"stopwords\")\n",
        "stop_words = set(nltk.corpus.stopwords.words(\"english\"))\n",
        "\n",
        "def doc2vec_manual(text: str) -> np.ndarray:\n",
        "    tokens = re.findall(r\"\\b\\w+\\b\", text.lower())\n",
        "    vecs = [glove_dict[t] for t in tokens if t not in stop_words and t in glove_dict]\n",
        "    return np.mean(vecs, axis=0) if vecs else np.zeros(25, dtype=np.float32)\n",
        "\n",
        "# Vectorized complete set and divided 80/20\n",
        "X_glove = np.vstack(df[\"tokens_joined\"].apply(doc2vec_manual).values)\n",
        "y       = df[\"label\"].values\n",
        "X_train_glove, X_test_glove, y_train, y_test = train_test_split(\n",
        "    X_glove, y, stratify=y, test_size=0.2, random_state=42\n",
        ")\n",
        "\n",
        "print(\"GloVe →\", X_train_glove.shape, \"train samples × 25-dim features\")\n"
      ]
    },
    {
      "cell_type": "markdown",
      "id": "X3T5cyAXo-VO",
      "metadata": {
        "id": "X3T5cyAXo-VO"
      },
      "source": [
        "<h2><b>3. Classification Models</b></h2>"
      ]
    },
    {
      "cell_type": "markdown",
      "id": "W6-LKmvdpPdl",
      "metadata": {
        "id": "W6-LKmvdpPdl"
      },
      "source": [
        "We implemented five classification models in our project. Each model was trained and tested on the same splits\n",
        ". The models include: Support Vector Machine (SVM), Random\n",
        "Forest, XGBoost, Long Short-Term Memory (LSTM), and BERT."
      ]
    },
    {
      "cell_type": "markdown",
      "id": "IdyGnA4wpzQ3",
      "metadata": {
        "id": "IdyGnA4wpzQ3"
      },
      "source": [
        "<h2><b>3.1 Support Vector Machine (SVM)</b></h2>"
      ]
    },
    {
      "cell_type": "markdown",
      "source": [
        "SVM is widely regarded as one of the best methods of conducting supervised learning. The main\n",
        "idea of SVM is to map the data to a 2D plane, and then find an optimal hyperplane to separate the\n",
        "data into classes, in this case, ”Positive” or ”Negative” sentiment. We implemented SVM using the\n",
        "LinearSVC class from scikit-learn. The input feature was generated using TfidfVectorizer,\n",
        "with an n-gram range of (1,6), a maximum vocabulary size of 20,000, and English stopwords\n",
        "removed. The model was trained on this sparse TF-IDF matrix, and hyperparameters were left at\n",
        "default"
      ],
      "metadata": {
        "id": "N1Krva0fHY1f"
      },
      "id": "N1Krva0fHY1f"
    },
    {
      "cell_type": "code",
      "execution_count": null,
      "id": "970d0355",
      "metadata": {
        "colab": {
          "base_uri": "https://localhost:8080/"
        },
        "id": "970d0355",
        "outputId": "3b907137-574b-4a93-e113-54791b7bb962"
      },
      "outputs": [
        {
          "name": "stdout",
          "output_type": "stream",
          "text": [
            "TF‑IDF SVM Accuracy: 0.888\n",
            "              precision    recall  f1-score   support\n",
            "\n",
            "           0       0.89      0.89      0.89      4004\n",
            "           1       0.89      0.89      0.89      3996\n",
            "\n",
            "    accuracy                           0.89      8000\n",
            "   macro avg       0.89      0.89      0.89      8000\n",
            "weighted avg       0.89      0.89      0.89      8000\n",
            "\n"
          ]
        }
      ],
      "source": [
        "# Train and eval SVM on TF-IDF\n",
        "from sklearn.svm import LinearSVC\n",
        "from sklearn.metrics import accuracy_score, classification_report\n",
        "\n",
        "svm_tfidf = LinearSVC(max_iter=5000, random_state=42)\n",
        "\n",
        "svm_tfidf.fit(X_train_tfidf, y_train)\n",
        "\n",
        "y_pred_tfidf = svm_tfidf.predict(X_test_tfidf)\n",
        "print(\"TF‑IDF SVM Accuracy:\", accuracy_score(y_test, y_pred_tfidf))\n",
        "print(classification_report(y_test, y_pred_tfidf))\n"
      ]
    },
    {
      "cell_type": "code",
      "execution_count": null,
      "id": "b28481bf",
      "metadata": {
        "colab": {
          "base_uri": "https://localhost:8080/"
        },
        "id": "b28481bf",
        "outputId": "c0e9c4b1-9536-446c-e599-66ffd9123272"
      },
      "outputs": [
        {
          "name": "stdout",
          "output_type": "stream",
          "text": [
            "n‑gram Count SVM Accuracy: 0.863\n",
            "              precision    recall  f1-score   support\n",
            "\n",
            "           0       0.86      0.86      0.86      4004\n",
            "           1       0.86      0.86      0.86      3996\n",
            "\n",
            "    accuracy                           0.86      8000\n",
            "   macro avg       0.86      0.86      0.86      8000\n",
            "weighted avg       0.86      0.86      0.86      8000\n",
            "\n"
          ]
        }
      ],
      "source": [
        "# Train and eval SVM on n-gram\n",
        "svm_count = LinearSVC(max_iter=5000, random_state=42)\n",
        "\n",
        "svm_count.fit(X_train_count, y_train)\n",
        "y_pred_count = svm_count.predict(X_test_count)\n",
        "\n",
        "print(\"n‑gram Count SVM Accuracy:\", accuracy_score(y_test, y_pred_count))\n",
        "print(classification_report(y_test, y_pred_count))\n"
      ]
    },
    {
      "cell_type": "code",
      "execution_count": null,
      "id": "sZbpen9Y4lcb",
      "metadata": {
        "colab": {
          "base_uri": "https://localhost:8080/"
        },
        "id": "sZbpen9Y4lcb",
        "outputId": "6d2424f8-6281-419f-9be0-6a1b4c2e3b55"
      },
      "outputs": [
        {
          "name": "stdout",
          "output_type": "stream",
          "text": [
            "GloVe + SVM Accuracy: 0.756\n",
            "              precision    recall  f1-score   support\n",
            "\n",
            "           0      0.754     0.761     0.757      4004\n",
            "           1      0.758     0.751     0.755      3996\n",
            "\n",
            "    accuracy                          0.756      8000\n",
            "   macro avg      0.756     0.756     0.756      8000\n",
            "weighted avg      0.756     0.756     0.756      8000\n",
            "\n"
          ]
        }
      ],
      "source": [
        "# x GloVe + SVM ——\n",
        "from sklearn.svm import LinearSVC\n",
        "from sklearn.metrics import accuracy_score, classification_report\n",
        "\n",
        "svm_glove = LinearSVC(max_iter=5000, random_state=42)\n",
        "svm_glove.fit(X_train_glove, y_train)\n",
        "\n",
        "y_pred_svm_glove = svm_glove.predict(X_test_glove)\n",
        "print(\"GloVe + SVM Accuracy:\", accuracy_score(y_test, y_pred_svm_glove))\n",
        "print(classification_report(y_test, y_pred_svm_glove, digits=3))"
      ]
    },
    {
      "cell_type": "markdown",
      "id": "jAmcpRgKrHvo",
      "metadata": {
        "id": "jAmcpRgKrHvo"
      },
      "source": [
        "<h2><b>3.2 Random Forest Classifier</b></h2>"
      ]
    },
    {
      "cell_type": "markdown",
      "source": [
        "Random Forest is a classification method that utilizes a multitude of decision trees in order to avoid\n",
        "overfitting and improve accuracy. By taking the average, or using the most-common classification\n",
        "of the trees in the ”forest” of decision trees, Random Forest seeks to predict the most likely classifi-\n",
        "cation of the movie review. We implemented it using using scikit-learn again, with the number\n",
        "of trees set to 100. Similar to SVM, the model was trained on the same TF-IDF input features."
      ],
      "metadata": {
        "id": "KQhfYwbKHmAW"
      },
      "id": "KQhfYwbKHmAW"
    },
    {
      "cell_type": "code",
      "execution_count": null,
      "id": "22264f44",
      "metadata": {
        "colab": {
          "base_uri": "https://localhost:8080/"
        },
        "id": "22264f44",
        "outputId": "74a8046d-58c6-4086-9c8f-aeafdce9b2e3"
      },
      "outputs": [
        {
          "name": "stdout",
          "output_type": "stream",
          "text": [
            "TF‑IDF RF Accuracy: 0.85325\n",
            "              precision    recall  f1-score   support\n",
            "\n",
            "           0       0.85      0.86      0.85      4004\n",
            "           1       0.86      0.85      0.85      3996\n",
            "\n",
            "    accuracy                           0.85      8000\n",
            "   macro avg       0.85      0.85      0.85      8000\n",
            "weighted avg       0.85      0.85      0.85      8000\n",
            "\n"
          ]
        }
      ],
      "source": [
        "# Train and eval Random-Forest on TF-IDF\n",
        "from sklearn.ensemble import RandomForestClassifier\n",
        "from sklearn.metrics import accuracy_score, classification_report\n",
        "\n",
        "rf_tfidf = RandomForestClassifier(\n",
        "    n_estimators=100,\n",
        "    random_state=42,\n",
        "    n_jobs=-1\n",
        ")\n",
        "rf_tfidf.fit(X_train_tfidf, y_train)\n",
        "\n",
        "y_pred_rf_tfidf = rf_tfidf.predict(X_test_tfidf)\n",
        "print(\"TF‑IDF RF Accuracy:\", accuracy_score(y_test, y_pred_rf_tfidf))\n",
        "print(classification_report(y_test, y_pred_rf_tfidf))\n"
      ]
    },
    {
      "cell_type": "code",
      "execution_count": null,
      "id": "f9138f67",
      "metadata": {
        "colab": {
          "base_uri": "https://localhost:8080/"
        },
        "id": "f9138f67",
        "outputId": "6349d3fe-91c0-474f-994e-78c560873391"
      },
      "outputs": [
        {
          "name": "stdout",
          "output_type": "stream",
          "text": [
            "n‑gram Count RF Accuracy: 0.85025\n",
            "              precision    recall  f1-score   support\n",
            "\n",
            "           0       0.85      0.85      0.85      4004\n",
            "           1       0.85      0.85      0.85      3996\n",
            "\n",
            "    accuracy                           0.85      8000\n",
            "   macro avg       0.85      0.85      0.85      8000\n",
            "weighted avg       0.85      0.85      0.85      8000\n",
            "\n"
          ]
        }
      ],
      "source": [
        "# Train and eval Random-Forest on N-Gram\n",
        "rf_count = RandomForestClassifier(\n",
        "    n_estimators=100,\n",
        "    random_state=42,\n",
        "    n_jobs=-1\n",
        ")\n",
        "rf_count.fit(X_train_count, y_train)\n",
        "\n",
        "y_pred_rf_count = rf_count.predict(X_test_count)\n",
        "print(\"n‑gram Count RF Accuracy:\", accuracy_score(y_test, y_pred_rf_count))\n",
        "print(classification_report(y_test, y_pred_rf_count))\n"
      ]
    },
    {
      "cell_type": "code",
      "execution_count": null,
      "id": "e2g_j-Z64pCq",
      "metadata": {
        "colab": {
          "background_save": true
        },
        "id": "e2g_j-Z64pCq",
        "outputId": "6c0ed679-6fdf-4f79-8b12-698bb56ab20d"
      },
      "outputs": [
        {
          "name": "stdout",
          "output_type": "stream",
          "text": [
            "GloVe + RF Accuracy: 0.749625\n",
            "              precision    recall  f1-score   support\n",
            "\n",
            "           0      0.753     0.744     0.748      4004\n",
            "           1      0.746     0.756     0.751      3996\n",
            "\n",
            "    accuracy                          0.750      8000\n",
            "   macro avg      0.750     0.750     0.750      8000\n",
            "weighted avg      0.750     0.750     0.750      8000\n",
            "\n"
          ]
        }
      ],
      "source": [
        "# x GloVe + Random Forest ——\n",
        "from sklearn.ensemble import RandomForestClassifier\n",
        "from sklearn.metrics import accuracy_score, classification_report\n",
        "\n",
        "rf_glove = RandomForestClassifier(\n",
        "    n_estimators=100,\n",
        "    random_state=42,\n",
        "    n_jobs=-1\n",
        ")\n",
        "rf_glove.fit(X_train_glove, y_train)\n",
        "\n",
        "y_pred_rf_glove = rf_glove.predict(X_test_glove)\n",
        "print(\"GloVe + RF Accuracy:\", accuracy_score(y_test, y_pred_rf_glove))\n",
        "print(classification_report(y_test, y_pred_rf_glove, digits=3))\n"
      ]
    },
    {
      "cell_type": "markdown",
      "id": "9-5yB8yjqOg3",
      "metadata": {
        "id": "9-5yB8yjqOg3"
      },
      "source": [
        "<h2><b>3.3 XGBoost Classifier</b></h2>"
      ]
    },
    {
      "cell_type": "markdown",
      "source": [
        "XGBoost stands for Extreme Gradient Boosting. THe main idea of this classification method is to\n",
        "start by creating a decision tree with the training data. The error is then computed, and a tree\n",
        "is then created to predict those errors. This process of computing the error and repeating is done\n",
        "repeatedly, adding on the trees to the previous ones, until a final prediction is formed from the sum\n",
        "of all of the trees. We used the XGBClassifier from the xgboost library to implement this, and\n",
        "it was trained on both TF-IDF and Count-based N-Gram representations"
      ],
      "metadata": {
        "id": "zY5GiGSpHujv"
      },
      "id": "zY5GiGSpHujv"
    },
    {
      "cell_type": "code",
      "execution_count": null,
      "id": "4f323d1a",
      "metadata": {
        "colab": {
          "background_save": true
        },
        "id": "4f323d1a",
        "outputId": "6d860bcf-21e2-4aea-a2c8-d75df02370f2"
      },
      "outputs": [
        {
          "name": "stderr",
          "output_type": "stream",
          "text": [
            "/usr/local/lib/python3.11/dist-packages/xgboost/core.py:158: UserWarning: [18:00:46] WARNING: /workspace/src/learner.cc:740: \n",
            "Parameters: { \"use_label_encoder\" } are not used.\n",
            "\n",
            "  warnings.warn(smsg, UserWarning)\n"
          ]
        },
        {
          "name": "stdout",
          "output_type": "stream",
          "text": [
            "TF‑IDF XGB Accuracy: 0.850875\n",
            "              precision    recall  f1-score   support\n",
            "\n",
            "           0       0.87      0.83      0.85      4004\n",
            "           1       0.84      0.87      0.85      3996\n",
            "\n",
            "    accuracy                           0.85      8000\n",
            "   macro avg       0.85      0.85      0.85      8000\n",
            "weighted avg       0.85      0.85      0.85      8000\n",
            "\n"
          ]
        }
      ],
      "source": [
        "from xgboost import XGBClassifier\n",
        "from sklearn.metrics import accuracy_score, classification_report\n",
        "\n",
        "# Train and eval XG-Boost on TF-IDF\n",
        "xgb_tfidf = XGBClassifier(\n",
        "    use_label_encoder=False,\n",
        "    eval_metric='logloss',\n",
        "    random_state=42\n",
        ")\n",
        "\n",
        "xgb_tfidf.fit(X_train_tfidf, y_train)\n",
        "\n",
        "y_pred_xgb_tfidf = xgb_tfidf.predict(X_test_tfidf)\n",
        "print(\"TF‑IDF XGB Accuracy:\", accuracy_score(y_test, y_pred_xgb_tfidf))\n",
        "print(classification_report(y_test, y_pred_xgb_tfidf))"
      ]
    },
    {
      "cell_type": "code",
      "execution_count": null,
      "id": "dfc67a44",
      "metadata": {
        "colab": {
          "background_save": true
        },
        "id": "dfc67a44",
        "outputId": "027d93b6-3f33-4028-e5f2-c99e89365dca"
      },
      "outputs": [
        {
          "name": "stderr",
          "output_type": "stream",
          "text": [
            "/usr/local/lib/python3.11/dist-packages/xgboost/core.py:158: UserWarning: [18:03:07] WARNING: /workspace/src/learner.cc:740: \n",
            "Parameters: { \"use_label_encoder\" } are not used.\n",
            "\n",
            "  warnings.warn(smsg, UserWarning)\n"
          ]
        },
        {
          "name": "stdout",
          "output_type": "stream",
          "text": [
            "n‑gram Count XGB Accuracy: 0.85275\n",
            "              precision    recall  f1-score   support\n",
            "\n",
            "           0       0.87      0.84      0.85      4004\n",
            "           1       0.84      0.87      0.86      3996\n",
            "\n",
            "    accuracy                           0.85      8000\n",
            "   macro avg       0.85      0.85      0.85      8000\n",
            "weighted avg       0.85      0.85      0.85      8000\n",
            "\n"
          ]
        }
      ],
      "source": [
        "# Train and eval XG-Boost on N-Gram\n",
        "xgb_count = XGBClassifier(\n",
        "    use_label_encoder=False,\n",
        "    eval_metric='logloss',\n",
        "    random_state=42\n",
        ")\n",
        "\n",
        "xgb_count.fit(X_train_count, y_train)\n",
        "\n",
        "y_pred_xgb_count = xgb_count.predict(X_test_count)\n",
        "print(\"n‑gram Count XGB Accuracy:\", accuracy_score(y_test, y_pred_xgb_count))\n",
        "print(classification_report(y_test, y_pred_xgb_count))\n"
      ]
    },
    {
      "cell_type": "code",
      "execution_count": null,
      "id": "p8Kew4bd4tOI",
      "metadata": {
        "colab": {
          "background_save": true
        },
        "id": "p8Kew4bd4tOI",
        "outputId": "ef766387-6365-4e03-aa8c-0e8c3aa6a104"
      },
      "outputs": [
        {
          "name": "stderr",
          "output_type": "stream",
          "text": [
            "/usr/local/lib/python3.11/dist-packages/xgboost/core.py:158: UserWarning: [18:03:18] WARNING: /workspace/src/learner.cc:740: \n",
            "Parameters: { \"use_label_encoder\" } are not used.\n",
            "\n",
            "  warnings.warn(smsg, UserWarning)\n"
          ]
        },
        {
          "name": "stdout",
          "output_type": "stream",
          "text": [
            "GloVe + XGB Accuracy: 0.75275\n",
            "              precision    recall  f1-score   support\n",
            "\n",
            "           0      0.753     0.752     0.753      4004\n",
            "           1      0.752     0.753     0.753      3996\n",
            "\n",
            "    accuracy                          0.753      8000\n",
            "   macro avg      0.753     0.753     0.753      8000\n",
            "weighted avg      0.753     0.753     0.753      8000\n",
            "\n"
          ]
        }
      ],
      "source": [
        "# x GloVe + XGBoost\n",
        "from xgboost import XGBClassifier\n",
        "from sklearn.metrics import accuracy_score, classification_report\n",
        "\n",
        "xgb_glove = XGBClassifier(\n",
        "    use_label_encoder=False,\n",
        "    eval_metric=\"logloss\",\n",
        "    random_state=42\n",
        ")\n",
        "xgb_glove.fit(X_train_glove, y_train)\n",
        "\n",
        "y_pred_xgb_glove = xgb_glove.predict(X_test_glove)\n",
        "print(\"GloVe + XGB Accuracy:\", accuracy_score(y_test, y_pred_xgb_glove))\n",
        "print(classification_report(y_test, y_pred_xgb_glove, digits=3))\n"
      ]
    },
    {
      "cell_type": "markdown",
      "id": "8qCi8bVIqQ2-",
      "metadata": {
        "id": "8qCi8bVIqQ2-"
      },
      "source": [
        "<h2><b>3.4 LSTM</b></h2>"
      ]
    },
    {
      "cell_type": "markdown",
      "source": [
        "We implemented a custom LSTM network using PyTorch. Reviews were first tokenized using nltk.word tokenize, and then numericalized using a custom vocabulary built from the training corpus. Each review was padded to a fixed length of 256 tokens. Word embeddings were learned from scratch. We used two hidden layers, with the hidden layer’s dimension being 128. A dropout of 0.3 was applied after pooling to reduce overfitting. Our LSTM network was trained over 10\n",
        "epochs."
      ],
      "metadata": {
        "id": "qC-NHEWqHz0A"
      },
      "id": "qC-NHEWqHz0A"
    },
    {
      "cell_type": "code",
      "execution_count": null,
      "id": "WN76cZw1oz5A",
      "metadata": {
        "id": "WN76cZw1oz5A"
      },
      "outputs": [],
      "source": [
        "import torch\n",
        "from torch.utils.data import Dataset\n",
        "from sklearn.preprocessing import LabelEncoder\n",
        "from nltk.tokenize import word_tokenize\n",
        "\n",
        "class IMDBDataset(Dataset):\n",
        "    def __init__(self, texts, labels, vocabulary, max_length=256):\n",
        "        \"\"\"\n",
        "        Create the IMDBDataset class.\n",
        "        \"\"\"\n",
        "        self.texts = texts\n",
        "        self.vocabulary = vocabulary\n",
        "        self.max_length = max_length\n",
        "        self.label_encoder = LabelEncoder()\n",
        "        self.encoded_labels = self.label_encoder.fit_transform(labels) # Encode labels into integers\n",
        "    def __len__(self):\n",
        "        \"\"\"\n",
        "        Return the total number of samples.\n",
        "        \"\"\"\n",
        "        return len(self.texts)\n",
        "    def __getitem__(self, idx):\n",
        "        \"\"\"\n",
        "        Return a single sample.\n",
        "        \"\"\"\n",
        "        tokens = word_tokenize(self.texts[idx])\n",
        "        ids = [self.vocabulary.get(t, self.vocabulary.get(\"<UNK>\", 0)) for t in tokens][:self.max_length] # Convert tokens to IDs\n",
        "        padding = [0] * (self.max_length - len(ids)) # Padding\n",
        "        ids = ids + padding\n",
        "        label = self.encoded_labels[idx]\n",
        "        return torch.LongTensor(ids), torch.LongTensor([label])"
      ]
    },
    {
      "cell_type": "code",
      "execution_count": null,
      "id": "P6wKUGP_6vad",
      "metadata": {
        "colab": {
          "base_uri": "https://localhost:8080/"
        },
        "id": "P6wKUGP_6vad",
        "outputId": "06e09448-50b5-4a6a-9761-4a57f59c5841"
      },
      "outputs": [
        {
          "name": "stdout",
          "output_type": "stream",
          "text": [
            "Text: accidentally stumbled across script textual form would read maybe laugh would however laugh point film director would seem want laugh although still altogether sure care woody allen writer write dialogue least knowingly write dialogue draw performance actor capable drawing laughter even ticklish clown example paraphrase art historian looking get job art gallery ok state fact honestly know art historian would say would answer really art gallery would thought entire script littered kind tawdry quasi intellectualism would expected respected character writer admit knowledge allen work judging one want start learning character loathsome without exception attempt illustrate suffer human condition really really poor character writing judge\n",
            "Original tokens: [2265, 4521, 489, 121, 1, 594, 11, 220, 174, 200, 11, 102, 200, 82, 3, 57, 11, 201, 59, 200, 166, 53, 3326, 150, 290, 2593, 1531, 267, 752, 286, 124, 13937, 752, 286, 1525, 67, 35, 1922, 2949, 1871, 10, 1, 3130, 309, 9895, 302, 5506, 162, 12, 175, 302, 6404, 452, 581, 87, 1024, 32, 302, 5506, 11, 44, 11, 933, 15, 302, 6404, 11, 88, 328, 121, 13938, 129, 14900, 7218, 1, 11, 705, 4356, 8, 267, 806, 1657, 1531, 54, 3662, 4, 59, 137, 2502, 8, 13108, 112, 1094, 287, 8616, 2615, 238, 1903, 15, 15, 230, 8, 373, 1306]\n",
            "Padded input:\n",
            " [ 2265  4521   489   121     1   594    11   220   174   200    11   102\n",
            "   200    82     3    57    11   201    59   200   166    53  3326   150\n",
            "   290  2593  1531   267   752   286   124 13937   752   286  1525    67\n",
            "    35  1922  2949  1871    10     1  3130   309  9895   302  5506   162\n",
            "    12   175   302  6404   452   581    87  1024    32   302  5506    11\n",
            "    44    11   933    15   302  6404    11    88   328   121 13938   129\n",
            " 14900  7218     1    11   705  4356     8   267   806  1657  1531    54\n",
            "  3662     4    59   137  2502     8 13108   112  1094   287  8616  2615\n",
            "   238  1903    15    15   230     8   373  1306     0     0     0     0\n",
            "     0     0     0     0     0     0     0     0     0     0     0     0\n",
            "     0     0     0     0     0     0     0     0     0     0     0     0\n",
            "     0     0     0     0     0     0     0     0     0     0     0     0\n",
            "     0     0     0     0     0     0     0     0     0     0     0     0\n",
            "     0     0     0     0     0     0     0     0     0     0     0     0\n",
            "     0     0     0     0     0     0     0     0     0     0     0     0\n",
            "     0     0     0     0     0     0     0     0     0     0     0     0\n",
            "     0     0     0     0     0     0     0     0     0     0     0     0\n",
            "     0     0     0     0     0     0     0     0     0     0     0     0\n",
            "     0     0     0     0     0     0     0     0     0     0     0     0\n",
            "     0     0     0     0     0     0     0     0     0     0     0     0\n",
            "     0     0     0     0     0     0     0     0     0     0     0     0\n",
            "     0     0     0     0]\n",
            "Label: 0\n"
          ]
        }
      ],
      "source": [
        "import tensorflow\n",
        "from tensorflow.keras.preprocessing.text import Tokenizer\n",
        "from tensorflow.keras.preprocessing.sequence import pad_sequences\n",
        "\n",
        "# Preprocess text and labels\n",
        "tokenizer = Tokenizer(num_words=20000, oov_token=\"<OOV>\")\n",
        "tokenizer.fit_on_texts(X_train)\n",
        "X_train_sequences = tokenizer.texts_to_sequences(X_train)\n",
        "X_test_sequences  = tokenizer.texts_to_sequences(X_test)\n",
        "max_length = 256\n",
        "X_train_pad = pad_sequences(X_train_sequences, maxlen=max_length, padding='post')\n",
        "X_test_pad  = pad_sequences(X_test_sequences, maxlen=max_length, padding='post')\n",
        "label_encoder = LabelEncoder()\n",
        "y_train_encoder = label_encoder.fit_transform(y_train)\n",
        "print(\"Text:\", X_train.iloc[0])\n",
        "print(\"Original tokens:\", tokenizer.texts_to_sequences([X_train.iloc[0]])[0])\n",
        "print(\"Padded input:\\n\", X_train_pad[0])\n",
        "print(\"Label:\", y_train_encoder[0])"
      ]
    },
    {
      "cell_type": "code",
      "execution_count": null,
      "id": "qTdWuj9m6y76",
      "metadata": {
        "colab": {
          "base_uri": "https://localhost:8080/"
        },
        "id": "qTdWuj9m6y76",
        "outputId": "870f4a4d-ba32-4575-b99f-260b321fdac8"
      },
      "outputs": [
        {
          "name": "stdout",
          "output_type": "stream",
          "text": [
            "Total number of samples: 32000\n",
            "First Sample:\n",
            "tensor([ 2265,  4521,   489,   121, 26152,   594,    11,   220,   174,   200,\n",
            "           11,   102,   200,    82,     3,    57,    11,   201,    59,   200,\n",
            "          166,    53,  3326,   150,   290,  2593,  1531,   267,   752,   286,\n",
            "          124, 13937,   752,   286,  1525,    67,    35,  1922,  2949,  1871,\n",
            "           10, 46241,  3130,   309,  9895,   302,  5506,   162,    12,   175,\n",
            "          302,  6404,   452,   581,    87,  1024,    32,   302,  5506,    11,\n",
            "           44,    11,   933,    15,   302,  6404,    11,    88,   328,   121,\n",
            "        13938,   129, 14900,  7218, 26153,    11,   705,  4356,     8,   267,\n",
            "          806,  1657,  1531,    54,  3662,     4,    59,   137,  2502,     8,\n",
            "        13108,   112,  1094,   287,  8616,  2615,   238,  1903,    15,    15,\n",
            "          230,     8,   373,  1306,     0,     0,     0,     0,     0,     0,\n",
            "            0,     0,     0,     0,     0,     0,     0,     0,     0,     0,\n",
            "            0,     0,     0,     0,     0,     0,     0,     0,     0,     0,\n",
            "            0,     0,     0,     0,     0,     0,     0,     0,     0,     0,\n",
            "            0,     0,     0,     0,     0,     0,     0,     0,     0,     0,\n",
            "            0,     0,     0,     0,     0,     0,     0,     0,     0,     0,\n",
            "            0,     0,     0,     0,     0,     0,     0,     0,     0,     0,\n",
            "            0,     0,     0,     0,     0,     0,     0,     0,     0,     0,\n",
            "            0,     0,     0,     0,     0,     0,     0,     0,     0,     0,\n",
            "            0,     0,     0,     0,     0,     0,     0,     0,     0,     0,\n",
            "            0,     0,     0,     0,     0,     0,     0,     0,     0,     0,\n",
            "            0,     0,     0,     0,     0,     0,     0,     0,     0,     0,\n",
            "            0,     0,     0,     0,     0,     0,     0,     0,     0,     0,\n",
            "            0,     0,     0,     0,     0,     0,     0,     0,     0,     0,\n",
            "            0,     0,     0,     0,     0,     0,     0,     0,     0,     0,\n",
            "            0,     0,     0,     0,     0,     0])\n"
          ]
        }
      ],
      "source": [
        "dataset = IMDBDataset(\n",
        "    texts=X_train.tolist(),\n",
        "    labels=y_train.tolist(),\n",
        "    vocabulary=tokenizer.word_index,\n",
        "    max_length=256\n",
        ")\n",
        "tokens_tensor, label_tensor = dataset[0]\n",
        "print(\"Total number of samples:\", len(dataset))\n",
        "print(\"First Sample:\")\n",
        "print(tokens_tensor)"
      ]
    },
    {
      "cell_type": "code",
      "execution_count": null,
      "id": "CiRrPjdBoPw0",
      "metadata": {
        "id": "CiRrPjdBoPw0"
      },
      "outputs": [],
      "source": [
        "import torch.nn as nn\n",
        "# LSTM model\n",
        "class SentimentLSTM(nn.Module):\n",
        "    def __init__(\n",
        "        self,\n",
        "        vocab_size, # Size of vocabulary\n",
        "        emb_dim=100, # Embedding dimension\n",
        "        hidden_dim=128, # LSTM hidden dimension\n",
        "        n_layers=2, # LSTM layers\n",
        "        n_classes=2, # Number of output classes(0 or 1)\n",
        "        dropout=0.3 # Dropout rate\n",
        "    ):\n",
        "        super().__init__()\n",
        "        # Embedding and dropout\n",
        "        self.embed  = nn.Embedding(vocab_size, emb_dim, padding_idx=0)\n",
        "        self.drop_e = nn.Dropout(dropout)\n",
        "        # Process sequence\n",
        "        self.lstm = nn.LSTM(\n",
        "            emb_dim,\n",
        "            hidden_dim,\n",
        "            num_layers=n_layers,\n",
        "            bidirectional=True,\n",
        "            batch_first=True,\n",
        "            dropout=dropout if n_layers > 1 else 0\n",
        "        )\n",
        "        self.drop_h = nn.Dropout(dropout)\n",
        "        self.fc = nn.Linear(hidden_dim * 4, n_classes)\n",
        "\n",
        "    def forward(self, x):\n",
        "        # Convert words to vectors\n",
        "        E = self.drop_e(self.embed(x))\n",
        "        H, _ = self.lstm(E)\n",
        "        # Extract features\n",
        "        avg_pool = H.mean(dim=1)\n",
        "        max_pool, _ = H.max(dim=1)\n",
        "        cat = torch.cat([avg_pool, max_pool], dim=1)\n",
        "        cat = self.drop_h(cat)\n",
        "        return self.fc(cat)\n"
      ]
    },
    {
      "cell_type": "code",
      "execution_count": null,
      "id": "r-QF-ajdoaMk",
      "metadata": {
        "id": "r-QF-ajdoaMk"
      },
      "outputs": [],
      "source": [
        "from collections import Counter\n",
        "from torch.utils.data import DataLoader\n",
        "counter = Counter()\n",
        "for txt in X_train:\n",
        "    counter.update(word_tokenize(txt))\n",
        "most_common = counter.most_common(20000)\n",
        "vocab = {w:i+1 for i,(w,_) in enumerate(most_common)}\n",
        "vocab[\"<UNK>\"] = len(vocab)+1\n",
        "\n",
        "train_ds = IMDBDataset(X_train.tolist(), y_train.tolist(), vocab)\n",
        "test_ds  = IMDBDataset(X_test.tolist(),  y_test.tolist(),  vocab)\n",
        "train_loader = DataLoader(train_ds, batch_size=64, shuffle=True)\n",
        "test_loader  = DataLoader(test_ds,  batch_size=64)"
      ]
    },
    {
      "cell_type": "code",
      "execution_count": null,
      "id": "m6VDAMKTodmn",
      "metadata": {
        "colab": {
          "base_uri": "https://localhost:8080/"
        },
        "id": "m6VDAMKTodmn",
        "outputId": "8d0de1c2-4a98-4080-dfd8-58d36b3795da"
      },
      "outputs": [
        {
          "name": "stderr",
          "output_type": "stream",
          "text": []
        },
        {
          "name": "stdout",
          "output_type": "stream",
          "text": [
            "Epoch  1 loss: 0.4875 accuracy: 0.8509\n",
            "precision: 0.8388 recall: 0.8684 f1: 0.8533\n"
          ]
        },
        {
          "name": "stderr",
          "output_type": "stream",
          "text": []
        },
        {
          "name": "stdout",
          "output_type": "stream",
          "text": [
            "Epoch  2 loss: 0.3284 accuracy: 0.8738\n",
            "precision: 0.8734 recall: 0.8739 f1: 0.8737\n"
          ]
        },
        {
          "name": "stderr",
          "output_type": "stream",
          "text": []
        },
        {
          "name": "stdout",
          "output_type": "stream",
          "text": [
            "Epoch  3 loss: 0.2701 accuracy: 0.8730\n",
            "precision: 0.9084 recall: 0.8293 f1: 0.8671\n"
          ]
        },
        {
          "name": "stderr",
          "output_type": "stream",
          "text": []
        },
        {
          "name": "stdout",
          "output_type": "stream",
          "text": [
            "Epoch  4 loss: 0.2300 accuracy: 0.8904\n",
            "precision: 0.8793 recall: 0.9047 f1: 0.8918\n"
          ]
        },
        {
          "name": "stderr",
          "output_type": "stream",
          "text": []
        },
        {
          "name": "stdout",
          "output_type": "stream",
          "text": [
            "Epoch  5 loss: 0.2021 accuracy: 0.8898\n",
            "precision: 0.8966 recall: 0.8809 f1: 0.8887\n"
          ]
        },
        {
          "name": "stderr",
          "output_type": "stream",
          "text": []
        },
        {
          "name": "stdout",
          "output_type": "stream",
          "text": [
            "Epoch  6 loss: 0.1769 accuracy: 0.8920\n",
            "precision: 0.8931 recall: 0.8904 f1: 0.8917\n"
          ]
        },
        {
          "name": "stderr",
          "output_type": "stream",
          "text": []
        },
        {
          "name": "stdout",
          "output_type": "stream",
          "text": [
            "Epoch  7 loss: 0.1539 accuracy: 0.8906\n",
            "precision: 0.8776 recall: 0.9077 f1: 0.8924\n"
          ]
        },
        {
          "name": "stderr",
          "output_type": "stream",
          "text": []
        },
        {
          "name": "stdout",
          "output_type": "stream",
          "text": [
            "Epoch  8 loss: 0.1344 accuracy: 0.8908\n",
            "precision: 0.8778 recall: 0.9077 f1: 0.8925\n"
          ]
        },
        {
          "name": "stderr",
          "output_type": "stream",
          "text": []
        },
        {
          "name": "stdout",
          "output_type": "stream",
          "text": [
            "Epoch  9 loss: 0.1185 accuracy: 0.8932\n",
            "precision: 0.8854 recall: 0.9032 f1: 0.8942\n"
          ]
        },
        {
          "name": "stderr",
          "output_type": "stream",
          "text": [
            "                                                                   "
          ]
        },
        {
          "name": "stdout",
          "output_type": "stream",
          "text": [
            "Epoch 10 loss: 0.0986 accuracy: 0.8876\n",
            "precision: 0.8663 recall: 0.9164 f1: 0.8907\n"
          ]
        },
        {
          "name": "stderr",
          "output_type": "stream",
          "text": [
            "\r"
          ]
        }
      ],
      "source": [
        "# Training\n",
        "device = torch.device(\"cuda\" if torch.cuda.is_available() else \"cpu\")\n",
        "model = SentimentLSTM(len(vocab)+1).to(device)\n",
        "criterion = nn.CrossEntropyLoss()\n",
        "optimizer = torch.optim.Adam(model.parameters(), lr=1e-3)\n",
        "\n",
        "train_losses = []\n",
        "test_accuracys = []\n",
        "test_precisions = []\n",
        "test_recalls = []\n",
        "test_f1s = []\n",
        "\n",
        "for epoch in range(1, 11):\n",
        "    model.train()\n",
        "    total_loss = 0\n",
        "    train_loader_tq = tqdm(\n",
        "        train_loader, desc=f\"Epoch {epoch} [Train]\", unit=\"batch\", leave=False\n",
        "    )\n",
        "    for x_batch, y_batch in train_loader_tq:\n",
        "        optimizer.zero_grad()\n",
        "        x_batch, y_batch = x_batch.to(device), y_batch.squeeze().to(device)\n",
        "        logits = model(x_batch)\n",
        "        loss = criterion(logits, y_batch)\n",
        "        optimizer.zero_grad()\n",
        "        loss.backward()\n",
        "        optimizer.step()\n",
        "        total_loss += loss.item()\n",
        "    avg_loss = total_loss / len(train_loader)\n",
        "    train_losses.append(avg_loss)\n",
        "\n",
        "    model.eval()\n",
        "    predictions_all = []\n",
        "    labels_all = []\n",
        "    with torch.no_grad():\n",
        "        for xb, yb in tqdm(test_loader, desc=f\"Epoch {epoch} [Test] \", leave=False):\n",
        "            xb = xb.to(device)\n",
        "            logits = model(xb)\n",
        "            predictions = logits.argmax(dim=1).cpu()\n",
        "            label_values = yb.squeeze().cpu()\n",
        "            predictions_all.extend(predictions.numpy())\n",
        "            labels_all.extend(label_values.numpy())\n",
        "\n",
        "    # compute metrics\n",
        "    accuracy = accuracy_score(labels_all, predictions_all)\n",
        "    precision = precision_score(labels_all, predictions_all, average='binary', zero_division=0)\n",
        "    recall = recall_score(labels_all, predictions_all, average='binary', zero_division=0)\n",
        "    f1 = f1_score(labels_all, predictions_all, average='binary', zero_division=0)\n",
        "\n",
        "    test_accuracys.append(accuracy)\n",
        "    test_precisions.append(precision)\n",
        "    test_recalls.append(recall)\n",
        "    test_f1s.append(f1)\n",
        "\n",
        "    print(f\"Epoch {epoch:2d} loss: {avg_loss:.4f} accuracy: {accuracy:.4f}\\n\"\n",
        "           f\"precision: {precision:.4f} recall: {recall:.4f} f1: {f1:.4f}\")"
      ]
    },
    {
      "cell_type": "code",
      "execution_count": null,
      "id": "Tdv-Z1sL5Jb1",
      "metadata": {
        "colab": {
          "base_uri": "https://localhost:8080/",
          "height": 1000
        },
        "id": "Tdv-Z1sL5Jb1",
        "outputId": "ca7ee162-b6ec-4a90-953a-5945f138c978"
      },
      "outputs": [
        {
          "data": {
            "image/png": "[encoded data removed]",
            "text/plain": [
              "<Figure size 640x480 with 1 Axes>"
            ]
          },
          "metadata": {},
          "output_type": "display_data"
        },
        {
          "data": {
            "image/png": "[encoded data removed]",
            "text/plain": [
              "<Figure size 640x480 with 1 Axes>"
            ]
          },
          "metadata": {},
          "output_type": "display_data"
        },
        {
          "data": {
            "image/png": "[encoded data removed]",
            "text/plain": [
              "<Figure size 640x480 with 1 Axes>"
            ]
          },
          "metadata": {},
          "output_type": "display_data"
        }
      ],
      "source": [
        "# a) train accuracy\n",
        "plt.figure()\n",
        "plt.plot(range(1, 11), train_losses)\n",
        "plt.xlabel(\"Epoch\")\n",
        "plt.ylabel(\"Train Loss\")\n",
        "plt.title(\"Training Loss per Epoch\")\n",
        "plt.show()\n",
        "\n",
        "# b) test accuracy\n",
        "plt.figure()\n",
        "plt.plot(range(1, 11), test_accuracys)\n",
        "plt.xlabel(\"Epoch\")\n",
        "plt.ylabel(\"Test Accuracy\")\n",
        "plt.title(\"Test Accuracy per Epoch\")\n",
        "plt.show()\n",
        "\n",
        "# c) precision, recall & F1 together\n",
        "plt.figure()\n",
        "plt.plot(range(1, 11), test_accuracys, label=\"Precision\")\n",
        "plt.plot(range(1, 11), test_recalls,  label=\"Recall\")\n",
        "plt.plot(range(1, 11), test_f1s,   label=\"F1 Score\")\n",
        "plt.xlabel(\"Epoch\")\n",
        "plt.ylabel(\"Score\")\n",
        "plt.title(\"Precision / Recall / F1 per Epoch\")\n",
        "plt.legend()\n",
        "plt.show()\n"
      ]
    },
    {
      "cell_type": "markdown",
      "id": "vIf-vbInrrqV",
      "metadata": {
        "id": "vIf-vbInrrqV"
      },
      "source": [
        "<h2><b>3.5 BERT</b></h2>"
      ]
    },
    {
      "cell_type": "markdown",
      "source": [
        "BERT stands for Bidirectional Encoder Representations from Transformers. It is a deep learning model developed by Google AI that is used for language understanding using a transformer architecture. Essentially, BERT is multiple Transformer encoders stacked on top of one another, with each layer containing multi-headed self attention and feed-forward networks."
      ],
      "metadata": {
        "id": "sHHO0LdXIIfP"
      },
      "id": "sHHO0LdXIIfP"
    },
    {
      "cell_type": "code",
      "execution_count": null,
      "id": "L1Pl7DSlolZX",
      "metadata": {
        "id": "L1Pl7DSlolZX"
      },
      "outputs": [],
      "source": [
        "from transformers import BertTokenizer\n",
        "# Dataset for BERT\n",
        "class BERTDataset(Dataset):\n",
        "    def __init__(self, texts, labels, tokenizer, max_length=256):\n",
        "        \"\"\"\n",
        "        Create the BERTDataset class.\n",
        "        \"\"\"\n",
        "        self.texts = texts\n",
        "        self.tokenizer = tokenizer\n",
        "        self.max_length = max_length\n",
        "        self.label_encoder = LabelEncoder()\n",
        "        self.encoded_labels = self.label_encoder.fit_transform(labels)  # Encode labels into integers\n",
        "\n",
        "    def __len__(self):\n",
        "        \"\"\"\n",
        "        Return the total number of samples.\n",
        "        \"\"\"\n",
        "        return len(self.texts)\n",
        "\n",
        "    def __getitem__(self, idx):\n",
        "        \"\"\"\n",
        "        Return a single sample for BERT:\n",
        "        \"\"\"\n",
        "        # Convert the text into token IDs and attention mask\n",
        "        encoding = self.tokenizer.encode_plus(\n",
        "            self.texts[idx],\n",
        "            add_special_tokens=True,\n",
        "            truncation=True,\n",
        "            max_length=self.max_length,\n",
        "            padding='max_length',\n",
        "            return_attention_mask=True,\n",
        "            return_tensors='pt'\n",
        "        )\n",
        "        # Remove the batch dimension\n",
        "        input_ids = encoding['input_ids'].squeeze(0)\n",
        "        attention_mask = encoding['attention_mask'].squeeze(0)\n",
        "        label = torch.LongTensor([self.encoded_labels[idx]])\n",
        "        # Return a tuple of inputs and label\n",
        "        return (input_ids, attention_mask), label"
      ]
    },
    {
      "cell_type": "code",
      "execution_count": null,
      "id": "TL35SqW56KFo",
      "metadata": {
        "colab": {
          "base_uri": "https://localhost:8080/"
        },
        "id": "TL35SqW56KFo",
        "outputId": "f1e175b0-a6af-46e0-fc7e-8f3aae3dc247"
      },
      "outputs": [
        {
          "name": "stdout",
          "output_type": "stream",
          "text": [
            "Text: accidentally stumbled across script textual form would read maybe laugh would however laugh point film director would seem want laugh although still altogether sure care woody allen writer write dialogue least knowingly write dialogue draw performance actor capable drawing laughter even ticklish clown example paraphrase art historian looking get job art gallery ok state fact honestly know art historian would say would answer really art gallery would thought entire script littered kind tawdry quasi intellectualism would expected respected character writer admit knowledge allen work judging one want start learning character loathsome without exception attempt illustrate suffer human condition really really poor character writing judge\n",
            "Padded input:\n",
            " [  101  9554  9845  2408  5896 25304  2433  2052  3191  2672  4756  2052\n",
            "  2174  4756  2391  2143  2472  2052  4025  2215  4756  2348  2145 10462\n",
            "  2469  2729 13703  5297  3213  4339  7982  2560  4209  2135  4339  7982\n",
            "  4009  2836  3364  5214  5059  7239  2130 16356 13602 15912  2742 11498\n",
            "  8458 23797  2396  5272  2559  2131  3105  2396  3916  7929  2110  2755\n",
            "  9826  2113  2396  5272  2052  2360  2052  3437  2428  2396  3916  2052\n",
            "  2245  2972  5896 24777  2785 11937 21724  2854 17982  7789  2964  2052\n",
            "  3517  9768  2839  3213  6449  3716  5297  2147 13325  2028  2215  2707\n",
            "  4083  2839  8840  8988 14045  2302  6453  3535 19141  9015  2529  4650\n",
            "  2428  2428  3532  2839  3015  3648   102     0     0     0     0     0\n",
            "     0     0     0     0     0     0     0     0     0     0     0     0\n",
            "     0     0     0     0     0     0     0     0     0     0     0     0\n",
            "     0     0     0     0     0     0     0     0     0     0     0     0\n",
            "     0     0     0     0     0     0     0     0     0     0     0     0\n",
            "     0     0     0     0     0     0     0     0     0     0     0     0\n",
            "     0     0     0     0     0     0     0     0     0     0     0     0\n",
            "     0     0     0     0     0     0     0     0     0     0     0     0\n",
            "     0     0     0     0     0     0     0     0     0     0     0     0\n",
            "     0     0     0     0     0     0     0     0     0     0     0     0\n",
            "     0     0     0     0     0     0     0     0     0     0     0     0\n",
            "     0     0     0     0     0     0     0     0     0     0     0     0\n",
            "     0     0     0     0]\n",
            "Attention mask:\n",
            " [1 1 1 1 1 1 1 1 1 1 1 1 1 1 1 1 1 1 1 1 1 1 1 1 1 1 1 1 1 1 1 1 1 1 1 1 1\n",
            " 1 1 1 1 1 1 1 1 1 1 1 1 1 1 1 1 1 1 1 1 1 1 1 1 1 1 1 1 1 1 1 1 1 1 1 1 1\n",
            " 1 1 1 1 1 1 1 1 1 1 1 1 1 1 1 1 1 1 1 1 1 1 1 1 1 1 1 1 1 1 1 1 1 1 1 1 1\n",
            " 1 1 1 1 0 0 0 0 0 0 0 0 0 0 0 0 0 0 0 0 0 0 0 0 0 0 0 0 0 0 0 0 0 0 0 0 0\n",
            " 0 0 0 0 0 0 0 0 0 0 0 0 0 0 0 0 0 0 0 0 0 0 0 0 0 0 0 0 0 0 0 0 0 0 0 0 0\n",
            " 0 0 0 0 0 0 0 0 0 0 0 0 0 0 0 0 0 0 0 0 0 0 0 0 0 0 0 0 0 0 0 0 0 0 0 0 0\n",
            " 0 0 0 0 0 0 0 0 0 0 0 0 0 0 0 0 0 0 0 0 0 0 0 0 0 0 0 0 0 0 0 0 0 0]\n",
            "Label: 0\n"
          ]
        }
      ],
      "source": [
        "tokenizer = BertTokenizer.from_pretrained('bert-base-uncased', quiet=True)\n",
        "bert_dataset = BERTDataset(X_train.tolist(), y_train.tolist(), tokenizer)\n",
        "first_sample = 0\n",
        "(input_ids, attention_mask), label = bert_dataset[first_sample]\n",
        "print(\"Text:\", X_train.iloc[first_sample])\n",
        "print(\"Padded input:\\n\", input_ids.numpy())\n",
        "print(\"Attention mask:\\n\", attention_mask.numpy())\n",
        "print(\"Label:\", label.item())"
      ]
    },
    {
      "cell_type": "code",
      "execution_count": null,
      "id": "_U1FbB066c0O",
      "metadata": {
        "id": "_U1FbB066c0O"
      },
      "outputs": [],
      "source": [
        "import torch\n",
        "import torch.nn as nn\n",
        "from transformers import BertModel\n",
        "\n",
        "class BERTSentiment(nn.Module):\n",
        "    def __init__(self, model_name='bert-base-uncased', n_classes=2, hidden_dim=256, dropout_rate=0.3):\n",
        "        \"\"\"\n",
        "        BERT sentiment classifier.\n",
        "        \"\"\"\n",
        "        super().__init__()\n",
        "        # Load BERT\n",
        "        self.bert = BertModel.from_pretrained(model_name, output_hidden_states=True, return_dict=True)\n",
        "        bert_dim = self.bert.config.hidden_size\n",
        "        # Layer to reduce dimensions\n",
        "        self.fc1 = nn.Linear(bert_dim * 2, hidden_dim)\n",
        "        # Activation function\n",
        "        self.act = nn.GELU()\n",
        "        # Add dropout to prevent overfitting\n",
        "        self.dropout = nn.Dropout(dropout_rate)\n",
        "        self.fc2 = nn.Linear(hidden_dim, n_classes)\n",
        "\n",
        "    def forward(self, input_ids, attention_mask):\n",
        "        out = self.bert(input_ids=input_ids, attention_mask=attention_mask)\n",
        "        # Get last layer output\n",
        "        last_hidden = out.hidden_states[-1]\n",
        "        cls_hidden = last_hidden[:, 0]\n",
        "\n",
        "        mask = attention_mask.unsqueeze(-1)\n",
        "        # Calculate average of words\n",
        "        avg_hidden = (last_hidden * mask).sum(1) / mask.sum(1).clamp(min=1e-9)\n",
        "        # Combine cls_hidden and average features\n",
        "        x = torch.cat([cls_hidden, avg_hidden], dim=1)\n",
        "        h = self.fc1(x)\n",
        "        h = self.act(h)\n",
        "        h = self.dropout(h)\n",
        "        return self.fc2(h)"
      ]
    },
    {
      "cell_type": "code",
      "execution_count": null,
      "id": "QZ3efTVatS-6",
      "metadata": {
        "id": "QZ3efTVatS-6"
      },
      "outputs": [],
      "source": [
        "tokenizer = BertTokenizer.from_pretrained('bert-base-uncased')\n",
        "train_ds = BERTDataset(X_train.tolist(), y_train.tolist(), tokenizer)\n",
        "test_ds = BERTDataset(X_test.tolist(), y_test.tolist(), tokenizer)\n",
        "train_loader = DataLoader(train_ds, batch_size=16, shuffle=True)\n",
        "test_loader = DataLoader(test_ds, batch_size=16)"
      ]
    },
    {
      "cell_type": "code",
      "execution_count": null,
      "id": "Bh8r2rOR6res",
      "metadata": {
        "colab": {
          "base_uri": "https://localhost:8080/"
        },
        "id": "Bh8r2rOR6res",
        "outputId": "f01587ff-a1f0-48a8-92a1-8e433cfbef7c"
      },
      "outputs": [
        {
          "name": "stderr",
          "output_type": "stream",
          "text": []
        },
        {
          "name": "stdout",
          "output_type": "stream",
          "text": [
            "Epoch 1 train loss: 0.3118\n"
          ]
        },
        {
          "name": "stderr",
          "output_type": "stream",
          "text": []
        },
        {
          "name": "stdout",
          "output_type": "stream",
          "text": [
            "Epoch  1:loss: 0.3118 accuracy: 0.8976\n",
            "precision: 0.8943 recall: 0.9017 f1: 0.8979\n"
          ]
        },
        {
          "name": "stderr",
          "output_type": "stream",
          "text": []
        },
        {
          "name": "stdout",
          "output_type": "stream",
          "text": [
            "Epoch 2 train loss: 0.2018\n"
          ]
        },
        {
          "name": "stderr",
          "output_type": "stream",
          "text": []
        },
        {
          "name": "stdout",
          "output_type": "stream",
          "text": [
            "Epoch  2:loss: 0.2018 accuracy: 0.9030\n",
            "precision: 0.9156 recall: 0.8876 f1: 0.9014\n"
          ]
        },
        {
          "name": "stderr",
          "output_type": "stream",
          "text": []
        },
        {
          "name": "stdout",
          "output_type": "stream",
          "text": [
            "Epoch 3 train loss: 0.1377\n"
          ]
        },
        {
          "name": "stderr",
          "output_type": "stream",
          "text": []
        },
        {
          "name": "stdout",
          "output_type": "stream",
          "text": [
            "Epoch  3:loss: 0.1377 accuracy: 0.9015\n",
            "precision: 0.9280 recall: 0.8704 f1: 0.8982\n"
          ]
        },
        {
          "name": "stderr",
          "output_type": "stream",
          "text": []
        },
        {
          "name": "stdout",
          "output_type": "stream",
          "text": [
            "Epoch 4 train loss: 0.0877\n"
          ]
        },
        {
          "name": "stderr",
          "output_type": "stream",
          "text": []
        },
        {
          "name": "stdout",
          "output_type": "stream",
          "text": [
            "Epoch  4:loss: 0.0877 accuracy: 0.9012\n",
            "precision: 0.9159 recall: 0.8834 f1: 0.8994\n"
          ]
        },
        {
          "name": "stderr",
          "output_type": "stream",
          "text": []
        },
        {
          "name": "stdout",
          "output_type": "stream",
          "text": [
            "Epoch 5 train loss: 0.0628\n"
          ]
        },
        {
          "name": "stderr",
          "output_type": "stream",
          "text": []
        },
        {
          "name": "stdout",
          "output_type": "stream",
          "text": [
            "Epoch  5:loss: 0.0628 accuracy: 0.8986\n",
            "precision: 0.9168 recall: 0.8766 f1: 0.8963\n"
          ]
        },
        {
          "name": "stderr",
          "output_type": "stream",
          "text": []
        },
        {
          "name": "stdout",
          "output_type": "stream",
          "text": [
            "Epoch 6 train loss: 0.0507\n"
          ]
        },
        {
          "name": "stderr",
          "output_type": "stream",
          "text": []
        },
        {
          "name": "stdout",
          "output_type": "stream",
          "text": [
            "Epoch  6:loss: 0.0507 accuracy: 0.9052\n",
            "precision: 0.9033 recall: 0.9074 f1: 0.9054\n"
          ]
        },
        {
          "name": "stderr",
          "output_type": "stream",
          "text": []
        },
        {
          "name": "stdout",
          "output_type": "stream",
          "text": [
            "Epoch 7 train loss: 0.0418\n"
          ]
        },
        {
          "name": "stderr",
          "output_type": "stream",
          "text": []
        },
        {
          "name": "stdout",
          "output_type": "stream",
          "text": [
            "Epoch  7:loss: 0.0418 accuracy: 0.9031\n",
            "precision: 0.9003 recall: 0.9064 f1: 0.9034\n"
          ]
        },
        {
          "name": "stderr",
          "output_type": "stream",
          "text": []
        },
        {
          "name": "stdout",
          "output_type": "stream",
          "text": [
            "Epoch 8 train loss: 0.0370\n"
          ]
        },
        {
          "name": "stderr",
          "output_type": "stream",
          "text": []
        },
        {
          "name": "stdout",
          "output_type": "stream",
          "text": [
            "Epoch  8:loss: 0.0370 accuracy: 0.8990\n",
            "precision: 0.8774 recall: 0.9274 f1: 0.9017\n"
          ]
        },
        {
          "name": "stderr",
          "output_type": "stream",
          "text": []
        },
        {
          "name": "stdout",
          "output_type": "stream",
          "text": [
            "Epoch 9 train loss: 0.0359\n"
          ]
        },
        {
          "name": "stderr",
          "output_type": "stream",
          "text": []
        },
        {
          "name": "stdout",
          "output_type": "stream",
          "text": [
            "Epoch  9:loss: 0.0359 accuracy: 0.9071\n",
            "precision: 0.9129 recall: 0.8999 f1: 0.9064\n"
          ]
        },
        {
          "name": "stderr",
          "output_type": "stream",
          "text": []
        },
        {
          "name": "stdout",
          "output_type": "stream",
          "text": [
            "Epoch 10 train loss: 0.0295\n"
          ]
        },
        {
          "name": "stderr",
          "output_type": "stream",
          "text": []
        },
        {
          "name": "stdout",
          "output_type": "stream",
          "text": [
            "Epoch 10:loss: 0.0295 accuracy: 0.9024\n",
            "precision: 0.9069 recall: 0.8966 f1: 0.9017\n"
          ]
        }
      ],
      "source": [
        "device = torch.device(\"cuda\" if torch.cuda.is_available() else \"cpu\")\n",
        "model = BERTSentiment().to(device)\n",
        "criterion = nn.CrossEntropyLoss()\n",
        "optimizer = torch.optim.AdamW(model.parameters(), lr=2e-5, weight_decay=0.01)\n",
        "\n",
        "train_losses = []\n",
        "test_accuracys = []\n",
        "test_precisions = []\n",
        "test_recalls = []\n",
        "test_f1s = []\n",
        "\n",
        "# Training\n",
        "for epoch in range(1, 11):\n",
        "    model.train()\n",
        "    train_bar = tqdm(train_loader, desc=f\"Epoch {epoch} [Train]\", unit=\"batch\", leave=False)\n",
        "    total_loss = 0\n",
        "    for (input_ids, attention_mask), labels in train_bar:\n",
        "        input_ids = input_ids.to(device)\n",
        "        attention_mask = attention_mask.to(device)\n",
        "        labels = labels.squeeze().to(device)\n",
        "        logits = model(input_ids, attention_mask)\n",
        "        loss = criterion(logits, labels)\n",
        "        optimizer.zero_grad()\n",
        "        loss.backward()\n",
        "        torch.nn.utils.clip_grad_norm_(model.parameters(), max_norm=1.0)\n",
        "        optimizer.step()\n",
        "        total_loss += loss.item()\n",
        "        train_bar.set_postfix({\"loss\": f\"{loss.item():.4f}\"})\n",
        "\n",
        "    # Calculate the loss\n",
        "    avg_loss = total_loss / len(train_loader)\n",
        "    print(f\"Epoch {epoch} train loss: {avg_loss:.4f}\")\n",
        "    train_losses.append(avg_loss)\n",
        "\n",
        "    model.eval()\n",
        "    predictions_all = []\n",
        "    labels_all = []\n",
        "    test_bar = tqdm(test_loader, desc=f\"Epoch {epoch} [Test] \", leave=False)\n",
        "    with torch.no_grad():\n",
        "        for (input_ids, attention_mask), labels in test_bar:\n",
        "            input_ids = input_ids.to(device)\n",
        "            attention_mask = attention_mask.to(device)\n",
        "            labels = labels.squeeze().to(device)\n",
        "            logits = model(input_ids, attention_mask)\n",
        "            predictions = logits.argmax(dim=1).cpu().numpy()\n",
        "            label_values = labels.cpu().numpy()\n",
        "\n",
        "            predictions_all.extend(predictions)\n",
        "            labels_all.extend(label_values)\n",
        "\n",
        "    # compute metrics\n",
        "    accuracy = accuracy_score(labels_all, predictions_all)\n",
        "    precision = precision_score(labels_all, predictions_all, average='binary', zero_division=0)\n",
        "    recall = recall_score(labels_all, predictions_all, average='binary', zero_division=0)\n",
        "    f1 = f1_score(labels_all, predictions_all, average='binary', zero_division=0)\n",
        "    test_accuracys.append(accuracy)\n",
        "    test_precisions.append(precision)\n",
        "    test_recalls.append(recall)\n",
        "    test_f1s.append(f1)\n",
        "    print(f\"Epoch {epoch:2d}:loss: {avg_loss:.4f} accuracy: {accuracy:.4f}\\n\"\n",
        "          f\"precision: {precision:.4f} recall: {recall:.4f} f1: {f1:.4f}\")\n"
      ]
    },
    {
      "cell_type": "code",
      "execution_count": null,
      "id": "ebAb6UgV5OYI",
      "metadata": {
        "colab": {
          "base_uri": "https://localhost:8080/",
          "height": 1000
        },
        "id": "ebAb6UgV5OYI",
        "outputId": "dc4e6a47-ae85-4fb4-dc57-3359fe3de574"
      },
      "outputs": [
        {
          "data": {
            "image/png": "[encoded data removed]",
            "text/plain": [
              "<Figure size 640x480 with 1 Axes>"
            ]
          },
          "metadata": {},
          "output_type": "display_data"
        },
        {
          "data": {
            "image/png": "[encoded data removed]",
            "text/plain": [
              "<Figure size 640x480 with 1 Axes>"
            ]
          },
          "metadata": {},
          "output_type": "display_data"
        },
        {
          "data": {
            "image/png": "[encoded data removed]",
            "text/plain": [
              "<Figure size 640x480 with 1 Axes>"
            ]
          },
          "metadata": {},
          "output_type": "display_data"
        }
      ],
      "source": [
        "epochs = list(range(1, 11))\n",
        "\n",
        "# a) Train loss\n",
        "plt.figure()\n",
        "plt.plot(epochs, train_losses)\n",
        "plt.xlabel(\"Epoch\"); plt.ylabel(\"Train Loss\")\n",
        "plt.title(\"BERT: Training Loss per Epoch\")\n",
        "plt.show()\n",
        "\n",
        "# b) Test accuracy\n",
        "plt.figure()\n",
        "plt.plot(epochs, test_accuracys)\n",
        "plt.xlabel(\"Epoch\"); plt.ylabel(\"Test Accuracy\")\n",
        "plt.title(\"BERT: Test Accuracy per Epoch\")\n",
        "plt.show()\n",
        "\n",
        "# c) Precision, Recall & F1\n",
        "plt.figure()\n",
        "plt.plot(epochs, test_precisions, label=\"Precision\")\n",
        "plt.plot(epochs, test_recalls,  label=\"Recall\")\n",
        "plt.plot(epochs, test_f1s,   label=\"F1 Score\")\n",
        "plt.xlabel(\"Epoch\"); plt.ylabel(\"Score\")\n",
        "plt.title(\"BERT: Precision / Recall / F1 per Epoch\")\n",
        "plt.legend()\n",
        "plt.show()"
      ]
    }
  ],
  "metadata": {
    "accelerator": "GPU",
    "colab": {
      "gpuType": "A100",
      "provenance": []
    },
    "kernelspec": {
      "display_name": "Python 3",
      "name": "python3"
    },
    "language_info": {
      "codemirror_mode": {
        "name": "ipython",
        "version": 3
      },
      "file_extension": ".py",
      "mimetype": "text/x-python",
      "name": "python",
      "nbconvert_exporter": "python",
      "pygments_lexer": "ipython3",
      "version": "3.12.5"
    }
  },
  "nbformat": 4,
  "nbformat_minor": 5
}